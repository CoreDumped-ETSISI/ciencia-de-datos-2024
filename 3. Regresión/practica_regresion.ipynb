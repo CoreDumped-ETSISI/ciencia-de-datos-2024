{
  "nbformat": 4,
  "nbformat_minor": 0,
  "metadata": {
    "colab": {
      "provenance": []
    },
    "kernelspec": {
      "name": "python3",
      "display_name": "Python 3"
    },
    "language_info": {
      "name": "python"
    }
  },
  "cells": [
    {
      "cell_type": "markdown",
      "source": [
        "# Regresión\n",
        "\n",
        "Autores:\n",
        "- Autor 1\n",
        "- ...\n",
        "\n",
        "\n",
        "---"
      ],
      "metadata": {
        "id": "RxvO-P_tITZn"
      }
    },
    {
      "cell_type": "markdown",
      "source": [
        "# Enunciado\n",
        "\n",
        "En esta práctica, se os proporcionará un conjunto de datos con características de automóviles de segunda mano en distintos países. El objetivo es preprocesar los datos y construir un modelo capaz de predecir los precios de coches que nunca haya visto.\n",
        "\n",
        "Además, se llevará a cabo una **competición** en kaggle, podéis inscribiros en este siguiente [enlace](https://www.kaggle.com/t/95194d38b1f9447fa9e3b51b8e9d575f)\n"
      ],
      "metadata": {
        "id": "27TyiiadIZPP"
      }
    },
    {
      "cell_type": "markdown",
      "source": [
        "\n",
        "\n",
        "La estructura del proyecto debe ser la siguiente:\n",
        "\n",
        "- Carga y limpieza de los datos\n",
        "- Visualización\n",
        "- Preprocesamiento\n",
        "- Pruebas de modelos (razonar sobre los resultados)\n",
        "- Conclusiones\n",
        "- Creación de submission\n"
      ],
      "metadata": {
        "id": "ASdGKYmmKbQT"
      }
    },
    {
      "cell_type": "markdown",
      "source": [
        "\n",
        "Se valorarán:\n",
        "\n",
        "- Número y variedad de experimentos con sus conclusiones.\n",
        "- Calidad del preprocesamiento (y su razonamiento).\n",
        "- Capacidad de generalización del modelo final.\n",
        "- Trabajo en equipo (en grupos de más de 1 integrante, claro).\n",
        "- Creatividad en la solución.\n",
        "- Claridad del .ipynb presentado en Moodle"
      ],
      "metadata": {
        "id": "m9RcLkX4KfFo"
      }
    },
    {
      "cell_type": "markdown",
      "source": [
        "# Carga y limpieza de los datos\n",
        "\n",
        "\n",
        "Aunque se permite la carga de los datos de forma local, se recomienda emplear las siguientes URLs de gist por comodidad:"
      ],
      "metadata": {
        "id": "Le4-KCG4JE4q"
      }
    },
    {
      "cell_type": "code",
      "execution_count": 1,
      "metadata": {
        "id": "qoqRtl2OIQch"
      },
      "outputs": [],
      "source": [
        "train_url = \"https://gist.githubusercontent.com/w-dan/9c2f9a30d0517c58a08d5a7ef42ef2dd/raw/ee85f61926c9aeae5863369a13bb67e182a702ba/training.csv\"\n",
        "test_url = \"https://gist.githubusercontent.com/w-dan/9c2f9a30d0517c58a08d5a7ef42ef2dd/raw/ee85f61926c9aeae5863369a13bb67e182a702ba/test.csv\""
      ]
    },
    {
      "cell_type": "code",
      "source": [
        "import pandas as pd\n",
        "\n",
        "train_df = pd.read_csv(train_url)\n",
        "test_df = pd.read_csv(test_url)"
      ],
      "metadata": {
        "id": "GvI-OWp_KDiX"
      },
      "execution_count": 4,
      "outputs": []
    },
    {
      "cell_type": "markdown",
      "source": [
        "# Visualización"
      ],
      "metadata": {
        "id": "48C0jP1KJGO4"
      }
    },
    {
      "cell_type": "code",
      "source": [],
      "metadata": {
        "id": "0YgfTZlrJHS3"
      },
      "execution_count": null,
      "outputs": []
    },
    {
      "cell_type": "markdown",
      "source": [
        "# Preprocesamiento"
      ],
      "metadata": {
        "id": "PTCbWa1pJHsW"
      }
    },
    {
      "cell_type": "code",
      "source": [],
      "metadata": {
        "id": "WQJaY771JIy5"
      },
      "execution_count": null,
      "outputs": []
    },
    {
      "cell_type": "markdown",
      "source": [
        "# Pruebas de modelos"
      ],
      "metadata": {
        "id": "_oO7TeuXJJRH"
      }
    },
    {
      "cell_type": "code",
      "source": [],
      "metadata": {
        "id": "KGmluLJcJJ6R"
      },
      "execution_count": null,
      "outputs": []
    },
    {
      "cell_type": "markdown",
      "source": [
        "# Conclusiones"
      ],
      "metadata": {
        "id": "B1iNlwUwJKPG"
      }
    },
    {
      "cell_type": "code",
      "source": [],
      "metadata": {
        "id": "_10vjsklJKqo"
      },
      "execution_count": null,
      "outputs": []
    },
    {
      "cell_type": "markdown",
      "source": [
        "# Creación de *submission* para Kaggle"
      ],
      "metadata": {
        "id": "g2jGH1ynJMK7"
      }
    },
    {
      "cell_type": "code",
      "source": [],
      "metadata": {
        "id": "tNe-c5zNJO2r"
      },
      "execution_count": null,
      "outputs": []
    }
  ]
}