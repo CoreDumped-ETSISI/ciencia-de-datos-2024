{
  "nbformat": 4,
  "nbformat_minor": 0,
  "metadata": {
    "colab": {
      "provenance": [],
      "authorship_tag": "ABX9TyM1DPQILlX2adNO/PrUlKn9"
    },
    "kernelspec": {
      "name": "python3",
      "display_name": "Python 3"
    },
    "language_info": {
      "name": "python"
    }
  },
  "cells": [
    {
      "cell_type": "markdown",
      "source": [
        "# Regresión polinómica\n",
        "\n",
        "Observamos anteriormente que la regresión lineal tiene problemas para ajustarse a datos con correlaciones no lineales:"
      ],
      "metadata": {
        "id": "Pqzm4CGn6-OV"
      }
    },
    {
      "cell_type": "code",
      "execution_count": null,
      "metadata": {
        "colab": {
          "base_uri": "https://localhost:8080/",
          "height": 279
        },
        "id": "PduuoFXp4dCc",
        "outputId": "b3175c75-7aa6-48ff-9ed3-549c6199e7e7"
      },
      "outputs": [
        {
          "output_type": "display_data",
          "data": {
            "text/plain": [
              "<Figure size 432x288 with 1 Axes>"
            ],
            "image/png": "[encoded data removed]"
          },
          "metadata": {
            "needs_background": "light"
          }
        }
      ],
      "source": [
        "from sklearn.linear_model import LinearRegression\n",
        "import matplotlib.pyplot as plt\n",
        "import numpy as np\n",
        "\n",
        "n_samples = 100\n",
        "\n",
        "np.random.seed(43)\n",
        "\n",
        "X = np.expand_dims(np.linspace(-2, 2, n_samples), axis=1) + np.random.rand(n_samples,1)\n",
        "y = 3 - 2 * X + X * X * X + np.random.rand(n_samples,1)\n",
        "\n",
        "# configuración del gráfico\n",
        "plt.figure()\n",
        "\n",
        "min_x = np.min(X)\n",
        "max_x = np.max(X)\n",
        "diff_x = max_x - min_x\n",
        "\n",
        "min_y = np.min(y)\n",
        "max_y = np.max(y)\n",
        "diff_y = max_y - min_y\n",
        "\n",
        "plt.xlim(min_x - 0.1 * diff_x, max_x + 0.1 * diff_x)\n",
        "plt.ylim(min_y - 0.1 * diff_y, max_y + 0.1 * diff_y)\n",
        "\n",
        "plt.xlabel('x')\n",
        "plt.ylabel('y')\n",
        "\n",
        "plt.scatter(X, y)\n",
        "\n",
        "reg = LinearRegression().fit(X, y)\n",
        "line = np.linspace(min_x - 0.1 * diff_x, max_x + 0.1 * diff_x)\n",
        "plt.plot(line, reg.intercept_ + reg.coef_[0] * line, c='red')\n",
        "\n",
        "plt.show()"
      ]
    },
    {
      "cell_type": "markdown",
      "source": [
        "La regresión polinómica consigue añadir curvatura al modelo elevando al cuadrado u otras potencias las variables independientes originales, construyendo un polinomio de grado $n$.\n",
        "\n",
        "$$\\hat{y} = \\beta_0 + \\beta_1 x + \\beta_2 x^2 + \\ldots + \\beta_n x^n$$\n",
        "\n",
        "`Sklearn` incluye `preprocessing.PolynomialFeatures`, que nos permite transformar cualquier conjunto de datos en uno con correlaciones polinómicas, pudiendo obtener a partir de $x_1$ y $x_2$ un polinomio de grado 3 como $x_1$, $x_2$, $x_1^2$, $x_2^2$, $x_1 \\cdot x_2$, $x_1^3$, $x_2^3$, $x_1^2 \\cdot x_2$ y $x_1 \\cdot x_2^2$, que da como resultado $x1$ y $x2$.<br><br>\n",
        "Generemos un polinomio de grado 3 a partir del ejemplo anterior:"
      ],
      "metadata": {
        "id": "b24aHS7XVCRZ"
      }
    },
    {
      "cell_type": "code",
      "source": [
        "# visualizamos los datos de ejemplo:\n",
        "X"
      ],
      "metadata": {
        "colab": {
          "base_uri": "https://localhost:8080/"
        },
        "id": "QbriFAqVYKDt",
        "outputId": "b212c112-b232-4265-b169-406b6f153f50"
      },
      "execution_count": null,
      "outputs": [
        {
          "output_type": "execute_result",
          "data": {
            "text/plain": [
              "array([[-1.88494543],\n",
              "       [-1.35052942],\n",
              "       [-1.78580096],\n",
              "       [-1.63819826],\n",
              "       [-1.51124478],\n",
              "       [-0.93884231],\n",
              "       [-1.09148554],\n",
              "       [-1.1760095 ],\n",
              "       [-1.64775385],\n",
              "       [-0.90261534],\n",
              "       [-1.20100958],\n",
              "       [-0.75350844],\n",
              "       [-1.26073039],\n",
              "       [-1.41786254],\n",
              "       [-0.56769479],\n",
              "       [-1.1729104 ],\n",
              "       [-0.94854591],\n",
              "       [-0.99703484],\n",
              "       [-1.19606457],\n",
              "       [-0.38909854],\n",
              "       [-0.34298004],\n",
              "       [-0.18005006],\n",
              "       [-0.7257342 ],\n",
              "       [-0.11621895],\n",
              "       [-0.58454467],\n",
              "       [-0.32017434],\n",
              "       [-0.8669949 ],\n",
              "       [-0.01199233],\n",
              "       [-0.57068337],\n",
              "       [-0.56597801],\n",
              "       [-0.78274924],\n",
              "       [-0.20427223],\n",
              "       [-0.23147434],\n",
              "       [-0.03029299],\n",
              "       [ 0.35194151],\n",
              "       [ 0.32280417],\n",
              "       [ 0.36469853],\n",
              "       [ 0.02020517],\n",
              "       [-0.36062751],\n",
              "       [-0.24332783],\n",
              "       [ 0.56920184],\n",
              "       [ 0.06851864],\n",
              "       [ 0.56198682],\n",
              "       [ 0.40955102],\n",
              "       [ 0.40656357],\n",
              "       [ 0.09374059],\n",
              "       [ 0.75533313],\n",
              "       [ 0.10588127],\n",
              "       [ 0.34379918],\n",
              "       [ 0.97337047],\n",
              "       [ 0.7559291 ],\n",
              "       [ 0.50566747],\n",
              "       [ 0.66167327],\n",
              "       [ 0.55266963],\n",
              "       [ 0.90880617],\n",
              "       [ 0.62141911],\n",
              "       [ 0.93277143],\n",
              "       [ 1.00774591],\n",
              "       [ 0.95299421],\n",
              "       [ 0.92387285],\n",
              "       [ 0.63032428],\n",
              "       [ 0.66380794],\n",
              "       [ 1.30078937],\n",
              "       [ 0.83578732],\n",
              "       [ 1.24182141],\n",
              "       [ 0.9258794 ],\n",
              "       [ 0.81114505],\n",
              "       [ 1.11102737],\n",
              "       [ 1.05774427],\n",
              "       [ 1.0312768 ],\n",
              "       [ 1.41638687],\n",
              "       [ 1.11403012],\n",
              "       [ 1.65686152],\n",
              "       [ 1.6696416 ],\n",
              "       [ 1.68515986],\n",
              "       [ 1.13304581],\n",
              "       [ 2.0143495 ],\n",
              "       [ 1.61445074],\n",
              "       [ 2.05118877],\n",
              "       [ 1.39049908],\n",
              "       [ 1.82677242],\n",
              "       [ 2.23813585],\n",
              "       [ 2.31182956],\n",
              "       [ 1.37770398],\n",
              "       [ 1.87524273],\n",
              "       [ 1.72576612],\n",
              "       [ 1.53846804],\n",
              "       [ 2.08477591],\n",
              "       [ 1.56063884],\n",
              "       [ 2.20723719],\n",
              "       [ 2.50654511],\n",
              "       [ 2.56036914],\n",
              "       [ 2.6714912 ],\n",
              "       [ 2.49743958],\n",
              "       [ 1.98269276],\n",
              "       [ 2.27306216],\n",
              "       [ 2.76468737],\n",
              "       [ 2.1742382 ],\n",
              "       [ 2.40290865],\n",
              "       [ 2.61693698]])"
            ]
          },
          "metadata": {},
          "execution_count": 3
        }
      ]
    },
    {
      "cell_type": "code",
      "source": [
        "from sklearn.preprocessing import PolynomialFeatures\n",
        "\n",
        "poly_X = PolynomialFeatures(degree=3, include_bias=False).fit_transform(X)\n",
        "poly_X"
      ],
      "metadata": {
        "colab": {
          "base_uri": "https://localhost:8080/"
        },
        "id": "OZvC412n7AuE",
        "outputId": "f8620710-0132-4458-fc32-6cd2103c9e1f"
      },
      "execution_count": null,
      "outputs": [
        {
          "output_type": "execute_result",
          "data": {
            "text/plain": [
              "array([[-1.88494543e+00,  3.55301929e+00, -6.69724748e+00],\n",
              "       [-1.35052942e+00,  1.82392972e+00, -2.46327074e+00],\n",
              "       [-1.78580096e+00,  3.18908505e+00, -5.69507113e+00],\n",
              "       [-1.63819826e+00,  2.68369354e+00, -4.39642208e+00],\n",
              "       [-1.51124478e+00,  2.28386079e+00, -3.45147271e+00],\n",
              "       [-9.38842307e-01,  8.81424877e-01, -8.27518965e-01],\n",
              "       [-1.09148554e+00,  1.19134069e+00, -1.30033115e+00],\n",
              "       [-1.17600950e+00,  1.38299836e+00, -1.62641921e+00],\n",
              "       [-1.64775385e+00,  2.71509276e+00, -4.47380455e+00],\n",
              "       [-9.02615340e-01,  8.14714452e-01, -7.35373762e-01],\n",
              "       [-1.20100958e+00,  1.44242401e+00, -1.73236505e+00],\n",
              "       [-7.53508437e-01,  5.67774965e-01, -4.27823226e-01],\n",
              "       [-1.26073039e+00,  1.58944111e+00, -2.00385672e+00],\n",
              "       [-1.41786254e+00,  2.01033418e+00, -2.85037752e+00],\n",
              "       [-5.67694793e-01,  3.22277379e-01, -1.82955190e-01],\n",
              "       [-1.17291040e+00,  1.37571880e+00, -1.61359489e+00],\n",
              "       [-9.48545905e-01,  8.99739335e-01, -8.53444062e-01],\n",
              "       [-9.97034842e-01,  9.94078476e-01, -9.91130877e-01],\n",
              "       [-1.19606457e+00,  1.43057046e+00, -1.71105465e+00],\n",
              "       [-3.89098538e-01,  1.51397672e-01, -5.89086130e-02],\n",
              "       [-3.42980044e-01,  1.17635311e-01, -4.03465641e-02],\n",
              "       [-1.80050060e-01,  3.24180241e-02, -5.83686719e-03],\n",
              "       [-7.25734197e-01,  5.26690124e-01, -3.82237034e-01],\n",
              "       [-1.16218946e-01,  1.35068433e-02, -1.56975109e-03],\n",
              "       [-5.84544669e-01,  3.41692471e-01, -1.99734512e-01],\n",
              "       [-3.20174338e-01,  1.02511607e-01, -3.28215859e-02],\n",
              "       [-8.66994900e-01,  7.51680156e-01, -6.51702862e-01],\n",
              "       [-1.19923291e-02,  1.43815957e-04, -1.72468829e-06],\n",
              "       [-5.70683368e-01,  3.25679507e-01, -1.85859878e-01],\n",
              "       [-5.65978006e-01,  3.20331103e-01, -1.81300359e-01],\n",
              "       [-7.82749239e-01,  6.12696371e-01, -4.79587618e-01],\n",
              "       [-2.04272232e-01,  4.17271448e-02, -8.52369702e-03],\n",
              "       [-2.31474340e-01,  5.35803701e-02, -1.24024808e-02],\n",
              "       [-3.02929891e-02,  9.17665188e-04, -2.77988215e-05],\n",
              "       [ 3.51941508e-01,  1.23862825e-01,  4.35924694e-02],\n",
              "       [ 3.22804172e-01,  1.04202533e-01,  3.36370125e-02],\n",
              "       [ 3.64698530e-01,  1.33005018e-01,  4.85067346e-02],\n",
              "       [ 2.02051661e-02,  4.08248735e-04,  8.24873349e-06],\n",
              "       [-3.60627515e-01,  1.30052204e-01, -4.69004033e-02],\n",
              "       [-2.43327829e-01,  5.92084324e-02, -1.44070593e-02],\n",
              "       [ 5.69201837e-01,  3.23990731e-01,  1.84416120e-01],\n",
              "       [ 6.85186400e-02,  4.69480402e-03,  3.21681586e-04],\n",
              "       [ 5.61986818e-01,  3.15829183e-01,  1.77491838e-01],\n",
              "       [ 4.09551017e-01,  1.67732035e-01,  6.86948257e-02],\n",
              "       [ 4.06563574e-01,  1.65293939e-01,  6.72024947e-02],\n",
              "       [ 9.37405948e-02,  8.78729912e-03,  8.23726646e-04],\n",
              "       [ 7.55333128e-01,  5.70528135e-01,  4.30938801e-01],\n",
              "       [ 1.05881270e-01,  1.12108434e-02,  1.18701834e-03],\n",
              "       [ 3.43799182e-01,  1.18197878e-01,  4.06363338e-02],\n",
              "       [ 9.73370472e-01,  9.47450076e-01,  9.22219928e-01],\n",
              "       [ 7.55929102e-01,  5.71428807e-01,  4.31959665e-01],\n",
              "       [ 5.05667473e-01,  2.55699593e-01,  1.29298967e-01],\n",
              "       [ 6.61673270e-01,  4.37811517e-01,  2.89688178e-01],\n",
              "       [ 5.52669631e-01,  3.05443720e-01,  1.68809468e-01],\n",
              "       [ 9.08806174e-01,  8.25928662e-01,  7.50609067e-01],\n",
              "       [ 6.21419108e-01,  3.86161708e-01,  2.39968264e-01],\n",
              "       [ 9.32771427e-01,  8.70062536e-01,  8.11569473e-01],\n",
              "       [ 1.00774591e+00,  1.01555182e+00,  1.02341819e+00],\n",
              "       [ 9.52994215e-01,  9.08197973e-01,  8.65507414e-01],\n",
              "       [ 9.23872848e-01,  8.53541039e-01,  7.88563391e-01],\n",
              "       [ 6.30324275e-01,  3.97308692e-01,  2.50433313e-01],\n",
              "       [ 6.63807941e-01,  4.40640983e-01,  2.92500984e-01],\n",
              "       [ 1.30078937e+00,  1.69205298e+00,  2.20100454e+00],\n",
              "       [ 8.35787323e-01,  6.98540450e-01,  5.83831253e-01],\n",
              "       [ 1.24182141e+00,  1.54212042e+00,  1.91503816e+00],\n",
              "       [ 9.25879402e-01,  8.57252667e-01,  7.93712587e-01],\n",
              "       [ 8.11145045e-01,  6.57956284e-01,  5.33697980e-01],\n",
              "       [ 1.11102737e+00,  1.23438183e+00,  1.37143200e+00],\n",
              "       [ 1.05774427e+00,  1.11882295e+00,  1.18342857e+00],\n",
              "       [ 1.03127680e+00,  1.06353185e+00,  1.09679572e+00],\n",
              "       [ 1.41638687e+00,  2.00615177e+00,  2.84148703e+00],\n",
              "       [ 1.11403012e+00,  1.24106311e+00,  1.38258169e+00],\n",
              "       [ 1.65686152e+00,  2.74519010e+00,  4.54839984e+00],\n",
              "       [ 1.66964160e+00,  2.78770306e+00,  4.65446500e+00],\n",
              "       [ 1.68515986e+00,  2.83976374e+00,  4.78545586e+00],\n",
              "       [ 1.13304581e+00,  1.28379281e+00,  1.45459606e+00],\n",
              "       [ 2.01434950e+00,  4.05760390e+00,  8.17343239e+00],\n",
              "       [ 1.61445074e+00,  2.60645120e+00,  4.20798709e+00],\n",
              "       [ 2.05118877e+00,  4.20737537e+00,  8.63012112e+00],\n",
              "       [ 1.39049908e+00,  1.93348768e+00,  2.68851284e+00],\n",
              "       [ 1.82677242e+00,  3.33709747e+00,  6.09611762e+00],\n",
              "       [ 2.23813585e+00,  5.00925210e+00,  1.12113867e+01],\n",
              "       [ 2.31182956e+00,  5.34455591e+00,  1.23557023e+01],\n",
              "       [ 1.37770398e+00,  1.89806825e+00,  2.61497618e+00],\n",
              "       [ 1.87524273e+00,  3.51653529e+00,  6.59435722e+00],\n",
              "       [ 1.72576612e+00,  2.97826871e+00,  5.13979526e+00],\n",
              "       [ 1.53846804e+00,  2.36688392e+00,  3.64137527e+00],\n",
              "       [ 2.08477591e+00,  4.34629061e+00,  9.06104198e+00],\n",
              "       [ 1.56063884e+00,  2.43559359e+00,  3.80108196e+00],\n",
              "       [ 2.20723719e+00,  4.87189599e+00,  1.07534300e+01],\n",
              "       [ 2.50654511e+00,  6.28276841e+00,  1.57480424e+01],\n",
              "       [ 2.56036914e+00,  6.55549014e+00,  1.67844747e+01],\n",
              "       [ 2.67149120e+00,  7.13686523e+00,  1.90660727e+01],\n",
              "       [ 2.49743958e+00,  6.23720444e+00,  1.55770412e+01],\n",
              "       [ 1.98269276e+00,  3.93107056e+00,  7.79410513e+00],\n",
              "       [ 2.27306216e+00,  5.16681158e+00,  1.17444839e+01],\n",
              "       [ 2.76468737e+00,  7.64349628e+00,  2.11318777e+01],\n",
              "       [ 2.17423820e+00,  4.72731175e+00,  1.02783018e+01],\n",
              "       [ 2.40290865e+00,  5.77397000e+00,  1.38743225e+01],\n",
              "       [ 2.61693698e+00,  6.84835914e+00,  1.79217242e+01]])"
            ]
          },
          "metadata": {},
          "execution_count": 4
        }
      ]
    },
    {
      "cell_type": "markdown",
      "source": [
        "Y si entrenamos el modelo con estos datos, ya no obtendremos una recta:"
      ],
      "metadata": {
        "id": "wieXkMmDYPxK"
      }
    },
    {
      "cell_type": "code",
      "source": [
        "from sklearn.linear_model import LinearRegression\n",
        "import matplotlib.pyplot as plt\n",
        "import numpy as np\n",
        "\n",
        "plt.figure()\n",
        "\n",
        "min_x = np.min(X)\n",
        "max_x = np.max(X)\n",
        "diff_x = max_x - min_x\n",
        "\n",
        "min_y = np.min(y)\n",
        "max_y = np.max(y)\n",
        "diff_y = max_y - min_y\n",
        "\n",
        "plt.xlim(min_x - 0.1 * diff_x, max_x + 0.1 * diff_x)\n",
        "plt.ylim(min_y - 0.1 * diff_y, max_y + 0.1 * diff_y)\n",
        "\n",
        "plt.xlabel('x')\n",
        "plt.ylabel('y')\n",
        "\n",
        "plt.scatter(X, y)\n",
        "\n",
        "reg = LinearRegression().fit(poly_X, y)\n",
        "line = np.linspace(min_x - 0.1 * diff_x, max_x + 0.1 * diff_x).reshape(-1, 1)\n",
        "xs = PolynomialFeatures(degree=3, include_bias=False).fit_transform(line)\n",
        "ys = reg.predict(xs)\n",
        "\n",
        "plt.plot(xs[:,0], ys, c='red')\n",
        "\n",
        "plt.show()"
      ],
      "metadata": {
        "colab": {
          "base_uri": "https://localhost:8080/",
          "height": 279
        },
        "id": "sQPhmzvDYIsD",
        "outputId": "800fb705-c54b-464a-9fbd-bae56f2f8fef"
      },
      "execution_count": null,
      "outputs": [
        {
          "output_type": "display_data",
          "data": {
            "text/plain": [
              "<Figure size 432x288 with 1 Axes>"
            ],
            "image/png": "[encoded data removed]"
          },
          "metadata": {
            "needs_background": "light"
          }
        }
      ]
    },
    {
      "cell_type": "markdown",
      "source": [
        "# ¿Cómo podemos medir la calidad de un modelo?\n",
        "\n",
        "Se suele medir por la proporción de la varianza que explica, es en adelante $R^2$, que puede tomar valores entre 0 y 1 incluidos. A mayor $R^2$, mejor será el modelo, porque significa que explica una mayor parte de la varianza.<br><br>\n",
        "Existen otras métricas como:\n",
        "\n",
        "* **Mean Absolute Error (MAE)** es la media de los valores absolutos de los errores\n",
        "$$\\frac{1}{n}\\sum^{n}_{i=1}\\left | y_i - \\widehat{y}_i  \\right |$$\n",
        "\n",
        "* **Mean Squared Error (MSE)** es la media de los cuadrados de los errores\n",
        "$$\\frac{1}{n}\\sum^{n}_{i=1}\\left ( y_i - \\widehat{y}_i  \\right )^2$$\n",
        "\n",
        "* **Root Mean Squared Error (RMSE)** es la raíz cuadrada de la media de los errores al cuadrado\n",
        "$$\\sqrt{\\frac{1}{n}\\sum^{n}_{i=1}\\left ( y_i - \\widehat{y}_i  \\right )^2}$$"
      ],
      "metadata": {
        "id": "8p9rNmuye4Ee"
      }
    },
    {
      "cell_type": "code",
      "source": [
        "from sklearn.datasets import load_boston\n",
        "from sklearn.linear_model import Ridge\n",
        "from sklearn.metrics import mean_absolute_error, mean_squared_error\n",
        "\n",
        "X, y = load_boston(return_X_y=True)\n",
        "\n",
        "ridge = Ridge(alpha=1.0).fit(X, y)\n",
        "\n",
        "y_pred = ridge.predict(X)\n",
        "\n",
        "print(\"MAE: \", mean_absolute_error(y, y_pred))\n",
        "print(\"MSE: \", mean_squared_error(y, y_pred))\n",
        "print(\"RMSE: \", mean_squared_error(y, y_pred, squared=False))\n",
        "print(\"R2: \", ridge.score(X, y))"
      ],
      "metadata": {
        "colab": {
          "base_uri": "https://localhost:8080/"
        },
        "id": "h2BSGpWLuTNF",
        "outputId": "11319bd0-b24c-4135-e2b2-006bff79b851"
      },
      "execution_count": null,
      "outputs": [
        {
          "output_type": "stream",
          "name": "stdout",
          "text": [
            "MAE:  3.264573955164436\n",
            "MSE:  22.04445224308819\n",
            "RMSE:  4.695151993608747\n",
            "R2:  0.7388703133867616\n"
          ]
        },
        {
          "output_type": "stream",
          "name": "stderr",
          "text": [
            "/usr/local/lib/python3.8/dist-packages/sklearn/utils/deprecation.py:87: FutureWarning: Function load_boston is deprecated; `load_boston` is deprecated in 1.0 and will be removed in 1.2.\n",
            "\n",
            "    The Boston housing prices dataset has an ethical problem. You can refer to\n",
            "    the documentation of this function for further details.\n",
            "\n",
            "    The scikit-learn maintainers therefore strongly discourage the use of this\n",
            "    dataset unless the purpose of the code is to study and educate about\n",
            "    ethical issues in data science and machine learning.\n",
            "\n",
            "    In this special case, you can fetch the dataset from the original\n",
            "    source::\n",
            "\n",
            "        import pandas as pd\n",
            "        import numpy as np\n",
            "\n",
            "\n",
            "        data_url = \"http://lib.stat.cmu.edu/datasets/boston\"\n",
            "        raw_df = pd.read_csv(data_url, sep=\"\\s+\", skiprows=22, header=None)\n",
            "        data = np.hstack([raw_df.values[::2, :], raw_df.values[1::2, :2]])\n",
            "        target = raw_df.values[1::2, 2]\n",
            "\n",
            "    Alternative datasets include the California housing dataset (i.e.\n",
            "    :func:`~sklearn.datasets.fetch_california_housing`) and the Ames housing\n",
            "    dataset. You can load the datasets as follows::\n",
            "\n",
            "        from sklearn.datasets import fetch_california_housing\n",
            "        housing = fetch_california_housing()\n",
            "\n",
            "    for the California housing dataset and::\n",
            "\n",
            "        from sklearn.datasets import fetch_openml\n",
            "        housing = fetch_openml(name=\"house_prices\", as_frame=True)\n",
            "\n",
            "    for the Ames housing dataset.\n",
            "    \n",
            "  warnings.warn(msg, category=FutureWarning)\n"
          ]
        }
      ]
    },
    {
      "cell_type": "markdown",
      "source": [
        "El MAE suele ser el error más interpretable, al no estar elevado al cuadrado (obtendríamos el error en $€^2$), y es recomendable fijarse en él junto con $R^2$ para obtener una interpretación más profunda de los resultados."
      ],
      "metadata": {
        "id": "7y8pk29auVMn"
      }
    },
    {
      "cell_type": "markdown",
      "source": [
        "# Evaluación rigurosa de modelos\n",
        "\n",
        "Para realizar una evaluación más rigurosa de los modelos, se puede serparar el dataset de entrenamiento mediante un muestreo aleatorio para **evitar sesgos**.<br>\n",
        "Este proceso se conoce como cross-validation (validación cruzada) o K-fold cross-validation.\n",
        "\n",
        "![grid_search_cross_validation.png](data:image/png;base64,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)"
      ],
      "metadata": {
        "id": "qByrCziQ395V"
      }
    },
    {
      "cell_type": "markdown",
      "source": [
        "Implementación de ejemplo con `sklearn`:"
      ],
      "metadata": {
        "id": "7NPcU1BH7qF3"
      }
    },
    {
      "cell_type": "code",
      "source": [
        "from sklearn.datasets import load_boston\n",
        "from sklearn.linear_model import Ridge\n",
        "from sklearn.model_selection import cross_val_score\n",
        "\n",
        "X, y = load_boston(return_X_y=True)\n",
        "ridge = Ridge(alpha=1)\n",
        "\n",
        "cross_val_score(ridge, X, y, cv=5, scoring='neg_mean_squared_error')"
      ],
      "metadata": {
        "colab": {
          "base_uri": "https://localhost:8080/"
        },
        "id": "1w2epWzD7s0F",
        "outputId": "4b444eb1-c83b-477d-e121-a4a8ec0fa096"
      },
      "execution_count": 7,
      "outputs": [
        {
          "output_type": "stream",
          "name": "stderr",
          "text": [
            "/usr/local/lib/python3.8/dist-packages/sklearn/utils/deprecation.py:87: FutureWarning: Function load_boston is deprecated; `load_boston` is deprecated in 1.0 and will be removed in 1.2.\n",
            "\n",
            "    The Boston housing prices dataset has an ethical problem. You can refer to\n",
            "    the documentation of this function for further details.\n",
            "\n",
            "    The scikit-learn maintainers therefore strongly discourage the use of this\n",
            "    dataset unless the purpose of the code is to study and educate about\n",
            "    ethical issues in data science and machine learning.\n",
            "\n",
            "    In this special case, you can fetch the dataset from the original\n",
            "    source::\n",
            "\n",
            "        import pandas as pd\n",
            "        import numpy as np\n",
            "\n",
            "\n",
            "        data_url = \"http://lib.stat.cmu.edu/datasets/boston\"\n",
            "        raw_df = pd.read_csv(data_url, sep=\"\\s+\", skiprows=22, header=None)\n",
            "        data = np.hstack([raw_df.values[::2, :], raw_df.values[1::2, :2]])\n",
            "        target = raw_df.values[1::2, 2]\n",
            "\n",
            "    Alternative datasets include the California housing dataset (i.e.\n",
            "    :func:`~sklearn.datasets.fetch_california_housing`) and the Ames housing\n",
            "    dataset. You can load the datasets as follows::\n",
            "\n",
            "        from sklearn.datasets import fetch_california_housing\n",
            "        housing = fetch_california_housing()\n",
            "\n",
            "    for the California housing dataset and::\n",
            "\n",
            "        from sklearn.datasets import fetch_openml\n",
            "        housing = fetch_openml(name=\"house_prices\", as_frame=True)\n",
            "\n",
            "    for the Ames housing dataset.\n",
            "    \n",
            "  warnings.warn(msg, category=FutureWarning)\n"
          ]
        },
        {
          "output_type": "execute_result",
          "data": {
            "text/plain": [
              "array([-11.7110334 , -23.58316804, -29.69339407, -80.22988232,\n",
              "       -31.11617767])"
            ]
          },
          "metadata": {},
          "execution_count": 7
        }
      ]
    },
    {
      "cell_type": "markdown",
      "source": [
        "Conviene explorar la documentación para conocer más métricas que se pueden implementar https://scikit-learn.org/stable/modules/generated/sklearn.model_selection.cross_val_score.html"
      ],
      "metadata": {
        "id": "xOb9q3Ng7y7l"
      }
    },
    {
      "cell_type": "markdown",
      "source": [
        "Fuentes:\n",
        "* https://www.cienciadedatos.net/documentos/25_regresion_lineal_multiple\n",
        "* https://www.cienciadedatos.net/documentos/32_metodos_de_regresion_no_lineal_polinomica_splines_gams.html#Regresi%C3%B3n_no_lineal_con_un_%C3%BAnico_predictor\n",
        "\n",
        "Ejemplos obtenidos del material creado por los profesores **Fernando Ortega** (fernando.ortega@upm.es) y **Raúl Lara Cabrera** (raul.lara@upm.es)\n",
        "\n",
        "<img src=\"https://licensebuttons.net/l/by-nc-sa/3.0/88x31.png\">"
      ],
      "metadata": {
        "id": "w0jTA8VjYoDt"
      }
    }
  ]
}