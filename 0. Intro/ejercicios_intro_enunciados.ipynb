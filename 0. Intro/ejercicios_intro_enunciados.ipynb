{
  "nbformat": 4,
  "nbformat_minor": 0,
  "metadata": {
    "colab": {
      "provenance": []
    },
    "kernelspec": {
      "name": "python3",
      "display_name": "Python 3"
    },
    "language_info": {
      "name": "python"
    }
  },
  "cells": [
    {
      "cell_type": "code",
      "source": [
        "import numpy as np\n",
        "import pandas as pd"
      ],
      "metadata": {
        "id": "zuW9SAZIsXoK"
      },
      "execution_count": 1,
      "outputs": []
    },
    {
      "cell_type": "markdown",
      "source": [
        "# Ejercicios de NumPy y pandas\n",
        "\n",
        "Estos ejercicios están pensados para que probéis de primera mano las capacidades de las librerías NumPy y pandas."
      ],
      "metadata": {
        "id": "vNJJAQVSqU0F"
      }
    },
    {
      "cell_type": "markdown",
      "source": [
        "## Ejercicios de NumPy"
      ],
      "metadata": {
        "id": "iUUKhLecq5gc"
      }
    },
    {
      "cell_type": "markdown",
      "source": [
        "### 1 - Creación de arrays\n",
        "\n",
        "a) Crea un array vacío en numpy de dimensiones 3×6"
      ],
      "metadata": {
        "id": "IIc-xukPq7Lp"
      }
    },
    {
      "cell_type": "code",
      "execution_count": 2,
      "metadata": {
        "id": "7ae7FAVYqRCI"
      },
      "outputs": [],
      "source": [
        "# SOL 1a\n"
      ]
    },
    {
      "cell_type": "markdown",
      "source": [
        "b) Repite el apartado a, pero llénalo con un número, como por ejemplo el `0`."
      ],
      "metadata": {
        "id": "GuIkBbobscuW"
      }
    },
    {
      "cell_type": "code",
      "source": [
        "# SOL 1b\n"
      ],
      "metadata": {
        "id": "w79FhgCnsXIx"
      },
      "execution_count": 3,
      "outputs": []
    },
    {
      "cell_type": "markdown",
      "source": [
        "### 2 - Comprobación de valores en un array\n",
        "\n",
        "Dado el array `arr`:"
      ],
      "metadata": {
        "id": "PjT9pLcRs_0d"
      }
    },
    {
      "cell_type": "code",
      "source": [
        "arr = np.array([[5, 2, 0],\n",
        "                [4, 3, 7]])"
      ],
      "metadata": {
        "id": "Yr66dfW5tlqy"
      },
      "execution_count": 4,
      "outputs": []
    },
    {
      "cell_type": "markdown",
      "source": [
        "a) Comprueba con `numpy` si contiene el número 6"
      ],
      "metadata": {
        "id": "ZO0zpTt-tp1t"
      }
    },
    {
      "cell_type": "code",
      "source": [
        "# SOL 2a\n"
      ],
      "metadata": {
        "id": "_yCQUDVFsjR_"
      },
      "execution_count": 5,
      "outputs": []
    },
    {
      "cell_type": "markdown",
      "source": [
        "b) Comprueba con `numpy` si contiene el número 4"
      ],
      "metadata": {
        "id": "LBZAydyqv3Fz"
      }
    },
    {
      "cell_type": "code",
      "source": [
        "# SOL 2b\n"
      ],
      "metadata": {
        "id": "pLZBIhaRv1yK"
      },
      "execution_count": 6,
      "outputs": []
    },
    {
      "cell_type": "markdown",
      "source": [
        "### 3 - Operaciones con numpy arrays"
      ],
      "metadata": {
        "id": "Zvv3DD3qwD8A"
      }
    },
    {
      "cell_type": "markdown",
      "source": [
        "a) Reduce la siguiente matriz (array de 2 dimensiones) a una dimensión:"
      ],
      "metadata": {
        "id": "IcmcwebAwOnm"
      }
    },
    {
      "cell_type": "code",
      "source": [
        "mat = np.array([[2, 3], [4, 5]])\n",
        "print(f\"Array bidimensional:\\n {mat}\\n\")\n",
        "\n",
        "# SOL 3a\n"
      ],
      "metadata": {
        "colab": {
          "base_uri": "https://localhost:8080/"
        },
        "id": "a1JmssC4wJTg",
        "outputId": "e343ab37-2217-4ae9-9c04-4af2ac5f825f"
      },
      "execution_count": 7,
      "outputs": [
        {
          "output_type": "stream",
          "name": "stdout",
          "text": [
            "Array bidimensional:\n",
            " [[2 3]\n",
            " [4 5]]\n",
            "\n"
          ]
        }
      ]
    },
    {
      "cell_type": "markdown",
      "source": [
        "b) Dados los vectores (arrays de 1 dimensión) `v_a` y `v_b`, calcula, **SIN USAR BUCLES**:\n",
        "- `v_a` + `v_b` (elemento a elemento)\n",
        "- `v_a` * `v_b` (elemento a elemento)\n",
        "- Su producto escalar (dot product)   "
      ],
      "metadata": {
        "id": "jt4vlpvSw_Ul"
      }
    },
    {
      "cell_type": "code",
      "source": [
        "v_a = np.array([6, 9, 12])\n",
        "v_b = np.array([8, 5, 2])\n",
        "\n",
        "# SOL 3b\n",
        "suma =  None            # tu solución para la suma\n",
        "resta = None            # tu solución para la resta\n",
        "escalar =  None         # tu solución para el producto escalar\n",
        "\n",
        "print(f\"[+] Suma: \\t{suma}\\n[-] Resta: \\t{resta} \\n[·] Escalar: \\t{escalar}\")"
      ],
      "metadata": {
        "colab": {
          "base_uri": "https://localhost:8080/"
        },
        "id": "mM1Q6Ei6wXdO",
        "outputId": "66cae88d-e071-45bd-81e0-465db750cde6"
      },
      "execution_count": 9,
      "outputs": [
        {
          "output_type": "stream",
          "name": "stdout",
          "text": [
            "[+] Suma: \tNone\n",
            "[-] Resta: \tNone \n",
            "[·] Escalar: \tNone\n"
          ]
        }
      ]
    },
    {
      "cell_type": "code",
      "source": [],
      "metadata": {
        "id": "ia6HUpwwxur1"
      },
      "execution_count": 9,
      "outputs": []
    },
    {
      "cell_type": "markdown",
      "source": [
        "## Ejercicios de pandas\n",
        "\n",
        "Trabajaremos sobre un ejemplo de `DataFrame` que contiene datos sobre pilotos de fórmula 1.\n",
        "\n",
        "Contamos con los siguientes datos:\n",
        "\n",
        "|   Driver Name   | Number of Victories |  Country   |\n",
        "|:---------------:|:-------------------:|:----------:|\n",
        "|    Hamilton     |         103         |     UK     |\n",
        "|   Schumacher    |         91          |  Germany   |\n",
        "|    Raikkonen    |         26          |  Finland   |\n",
        "|     Alonso      |         32          |   Spain    |\n",
        "|     Vettel      |         53          |  Germany   |\n",
        "|      Sainz      |         2           |   Spain    |\n",
        "|    Hakkinen     |         20          |  Finland   |\n",
        "|      Senna      |         41          |  Brazil    |\n",
        "|   Verstappen    |         54          |Netherlands|\n",
        "|   Fittipaldi    |         14          |  Brazil    |"
      ],
      "metadata": {
        "id": "48B6RRgIyr0a"
      }
    },
    {
      "cell_type": "markdown",
      "source": [
        "### 1 - Creación de DataFrames\n",
        "\n",
        "Empezaremos creando un dataframe sobre el que operar fijándonos en el DataFrame del ejemplo anterior.\n",
        "\n",
        "Dada la siguiente lista bidimensional (matriz) y el array de nombres de columnas, crea el DataFrame mencionado anteriormente con `pandas`:"
      ],
      "metadata": {
        "id": "dVeJUl3jyxNB"
      }
    },
    {
      "cell_type": "code",
      "source": [
        "drivers = [['Hamilton', 103, 'UK'], ['Schumacher', 91, 'Germany'],\n",
        "           ['Raikkonen', 26, 'Finland'], ['Alonso', 32, 'Spain'],\n",
        "           ['Vettel', 53, 'Germany'], ['Sainz', 2, 'Spain'],\n",
        "           ['Hakkinen', 20, 'Finland'], ['Senna', 41, 'Brazil'],\n",
        "           ['Verstappen', 54, 'Netherlands'], ['Fittipaldi', 14, 'Brazil'],     # Sí, Fittipaldi existe\n",
        "           [None, None, None], ['Sainz', 2, 'Spain']]\n",
        "\n",
        "column_names = ['Driver Name', 'Number of Victories', 'Country']\n",
        "\n",
        "\n",
        "# SOL pd1\n",
        "df = pd.DataFrame(None)        # cambia None por tu solución\n",
        "df"
      ],
      "metadata": {
        "colab": {
          "base_uri": "https://localhost:8080/",
          "height": 53
        },
        "id": "8l7ms-OzytVo",
        "outputId": "7500c891-dc75-407f-8fc7-16cc054690ac"
      },
      "execution_count": 10,
      "outputs": [
        {
          "output_type": "execute_result",
          "data": {
            "text/plain": [
              "Empty DataFrame\n",
              "Columns: []\n",
              "Index: []"
            ],
            "text/html": [
              "\n",
              "  <div id=\"df-6cbcabb4-7002-48bc-9c39-985a57c57e87\" class=\"colab-df-container\">\n",
              "    <div>\n",
              "<style scoped>\n",
              "    .dataframe tbody tr th:only-of-type {\n",
              "        vertical-align: middle;\n",
              "    }\n",
              "\n",
              "    .dataframe tbody tr th {\n",
              "        vertical-align: top;\n",
              "    }\n",
              "\n",
              "    .dataframe thead th {\n",
              "        text-align: right;\n",
              "    }\n",
              "</style>\n",
              "<table border=\"1\" class=\"dataframe\">\n",
              "  <thead>\n",
              "    <tr style=\"text-align: right;\">\n",
              "      <th></th>\n",
              "    </tr>\n",
              "  </thead>\n",
              "  <tbody>\n",
              "  </tbody>\n",
              "</table>\n",
              "</div>\n",
              "    <div class=\"colab-df-buttons\">\n",
              "\n",
              "  <div class=\"colab-df-container\">\n",
              "    <button class=\"colab-df-convert\" onclick=\"convertToInteractive('df-6cbcabb4-7002-48bc-9c39-985a57c57e87')\"\n",
              "            title=\"Convert this dataframe to an interactive table.\"\n",
              "            style=\"display:none;\">\n",
              "\n",
              "  <svg xmlns=\"http://www.w3.org/2000/svg\" height=\"24px\" viewBox=\"0 -960 960 960\">\n",
              "    <path d=\"M120-120v-720h720v720H120Zm60-500h600v-160H180v160Zm220 220h160v-160H400v160Zm0 220h160v-160H400v160ZM180-400h160v-160H180v160Zm440 0h160v-160H620v160ZM180-180h160v-160H180v160Zm440 0h160v-160H620v160Z\"/>\n",
              "  </svg>\n",
              "    </button>\n",
              "\n",
              "  <style>\n",
              "    .colab-df-container {\n",
              "      display:flex;\n",
              "      gap: 12px;\n",
              "    }\n",
              "\n",
              "    .colab-df-convert {\n",
              "      background-color: #E8F0FE;\n",
              "      border: none;\n",
              "      border-radius: 50%;\n",
              "      cursor: pointer;\n",
              "      display: none;\n",
              "      fill: #1967D2;\n",
              "      height: 32px;\n",
              "      padding: 0 0 0 0;\n",
              "      width: 32px;\n",
              "    }\n",
              "\n",
              "    .colab-df-convert:hover {\n",
              "      background-color: #E2EBFA;\n",
              "      box-shadow: 0px 1px 2px rgba(60, 64, 67, 0.3), 0px 1px 3px 1px rgba(60, 64, 67, 0.15);\n",
              "      fill: #174EA6;\n",
              "    }\n",
              "\n",
              "    .colab-df-buttons div {\n",
              "      margin-bottom: 4px;\n",
              "    }\n",
              "\n",
              "    [theme=dark] .colab-df-convert {\n",
              "      background-color: #3B4455;\n",
              "      fill: #D2E3FC;\n",
              "    }\n",
              "\n",
              "    [theme=dark] .colab-df-convert:hover {\n",
              "      background-color: #434B5C;\n",
              "      box-shadow: 0px 1px 3px 1px rgba(0, 0, 0, 0.15);\n",
              "      filter: drop-shadow(0px 1px 2px rgba(0, 0, 0, 0.3));\n",
              "      fill: #FFFFFF;\n",
              "    }\n",
              "  </style>\n",
              "\n",
              "    <script>\n",
              "      const buttonEl =\n",
              "        document.querySelector('#df-6cbcabb4-7002-48bc-9c39-985a57c57e87 button.colab-df-convert');\n",
              "      buttonEl.style.display =\n",
              "        google.colab.kernel.accessAllowed ? 'block' : 'none';\n",
              "\n",
              "      async function convertToInteractive(key) {\n",
              "        const element = document.querySelector('#df-6cbcabb4-7002-48bc-9c39-985a57c57e87');\n",
              "        const dataTable =\n",
              "          await google.colab.kernel.invokeFunction('convertToInteractive',\n",
              "                                                    [key], {});\n",
              "        if (!dataTable) return;\n",
              "\n",
              "        const docLinkHtml = 'Like what you see? Visit the ' +\n",
              "          '<a target=\"_blank\" href=https://colab.research.google.com/notebooks/data_table.ipynb>data table notebook</a>'\n",
              "          + ' to learn more about interactive tables.';\n",
              "        element.innerHTML = '';\n",
              "        dataTable['output_type'] = 'display_data';\n",
              "        await google.colab.output.renderOutput(dataTable, element);\n",
              "        const docLink = document.createElement('div');\n",
              "        docLink.innerHTML = docLinkHtml;\n",
              "        element.appendChild(docLink);\n",
              "      }\n",
              "    </script>\n",
              "  </div>\n",
              "\n",
              "    </div>\n",
              "  </div>\n"
            ],
            "application/vnd.google.colaboratory.intrinsic+json": {
              "type": "dataframe",
              "variable_name": "df",
              "summary": "{\n  \"name\": \"df\",\n  \"rows\": 0,\n  \"fields\": []\n}"
            }
          },
          "metadata": {},
          "execution_count": 10
        }
      ]
    },
    {
      "cell_type": "markdown",
      "source": [
        "### 2 - Selección de filas basada en condiciones\n",
        "\n",
        "- *Anotación: puedes obtener los resultados de estos apartados en el formato que prefieras, no importa si es array o dataframe*"
      ],
      "metadata": {
        "id": "vYVNUlhV4UWt"
      }
    },
    {
      "cell_type": "markdown",
      "source": [
        "a) ¿Qué piloto tiene el mayor número de victorias? ¿Y el menor?\n",
        "\n",
        "- *Pista: puedes usar los métodos idxmax e idxmin*\n",
        "\n",
        "\n"
      ],
      "metadata": {
        "id": "7TCO0dNK4XIG"
      }
    },
    {
      "cell_type": "code",
      "source": [
        "# SOL 2a\n"
      ],
      "metadata": {
        "id": "9Hr3fNw42T2C"
      },
      "execution_count": 11,
      "outputs": []
    },
    {
      "cell_type": "markdown",
      "source": [
        "b) Obtén los pilotos con más de 20 victorias."
      ],
      "metadata": {
        "id": "rh1axHC-4bNM"
      }
    },
    {
      "cell_type": "code",
      "source": [
        "# SOL 2b\n"
      ],
      "metadata": {
        "id": "ECLyebOS4eeb"
      },
      "execution_count": 12,
      "outputs": []
    },
    {
      "cell_type": "markdown",
      "source": [
        "c) ¿Cuántos pilotos finlandeses hay?"
      ],
      "metadata": {
        "id": "m7G7zPkc69yw"
      }
    },
    {
      "cell_type": "code",
      "source": [
        "# SOL 2c\n"
      ],
      "metadata": {
        "id": "UIuV-ysL7ABy"
      },
      "execution_count": 13,
      "outputs": []
    },
    {
      "cell_type": "markdown",
      "source": [
        "### 3 - Una pequeña introducción a limpieza de datos\n",
        "\n",
        "Vaya... Parece que se han colado valores nulos en nuestro DataFrame. De esta forma no podremos operar con él en el futuro, vamos a hacer una pequeña limpieza en dos pasos.\n",
        "\n",
        "\n",
        "*Importante: Esto es un pequeño adelanto del tema de preprocesamiento, así que os daremos alguna pista*"
      ],
      "metadata": {
        "id": "WkBpC_uK30WC"
      }
    },
    {
      "cell_type": "markdown",
      "source": [
        "a) Empecemos eliminando los valores nulos por ser los más problemáticos. Podríamos usar el método `dropna` de pandas."
      ],
      "metadata": {
        "id": "xavcfFnW4v8H"
      }
    },
    {
      "cell_type": "code",
      "source": [
        "# SOL 2a\n"
      ],
      "metadata": {
        "id": "nSA6H-K3403G"
      },
      "execution_count": 14,
      "outputs": []
    },
    {
      "cell_type": "markdown",
      "source": [
        "b) Ahora queda una pregunta... ¿Hace falta que el número de victorias tenga decimales? No se puede ganar media carrera... Como es un poco difícil de mirar, podríamos convertirlo a enteros.\n",
        "\n",
        "De esta manera podemos ilustrar una gran comodidad que ofrece pandas: cambiar de tipo una columna entera (en el futuro, es posible que os encontréis columnas que vienen en un formato que no es, por ejemplo números en forma de string)."
      ],
      "metadata": {
        "id": "cnFIxjED5QzI"
      }
    },
    {
      "cell_type": "code",
      "source": [
        "# Este os lo damos hecho como ejemplo\n",
        "\n",
        "df['Number of Victories'] = df['Number of Victories'].astype(int)\n",
        "\n",
        "df"
      ],
      "metadata": {
        "colab": {
          "base_uri": "https://localhost:8080/",
          "height": 478
        },
        "id": "isTy3JfV5hwC",
        "outputId": "6fa09036-88fa-459e-c572-133a8e662ec9"
      },
      "execution_count": 15,
      "outputs": [
        {
          "output_type": "error",
          "ename": "KeyError",
          "evalue": "'Number of Victories'",
          "traceback": [
            "\u001b[0;31m---------------------------------------------------------------------------\u001b[0m",
            "\u001b[0;31mKeyError\u001b[0m                                  Traceback (most recent call last)",
            "\u001b[0;32m/usr/local/lib/python3.10/dist-packages/pandas/core/indexes/base.py\u001b[0m in \u001b[0;36mget_loc\u001b[0;34m(self, key, method, tolerance)\u001b[0m\n\u001b[1;32m   3801\u001b[0m             \u001b[0;32mtry\u001b[0m\u001b[0;34m:\u001b[0m\u001b[0;34m\u001b[0m\u001b[0;34m\u001b[0m\u001b[0m\n\u001b[0;32m-> 3802\u001b[0;31m                 \u001b[0;32mreturn\u001b[0m \u001b[0mself\u001b[0m\u001b[0;34m.\u001b[0m\u001b[0m_engine\u001b[0m\u001b[0;34m.\u001b[0m\u001b[0mget_loc\u001b[0m\u001b[0;34m(\u001b[0m\u001b[0mcasted_key\u001b[0m\u001b[0;34m)\u001b[0m\u001b[0;34m\u001b[0m\u001b[0;34m\u001b[0m\u001b[0m\n\u001b[0m\u001b[1;32m   3803\u001b[0m             \u001b[0;32mexcept\u001b[0m \u001b[0mKeyError\u001b[0m \u001b[0;32mas\u001b[0m \u001b[0merr\u001b[0m\u001b[0;34m:\u001b[0m\u001b[0;34m\u001b[0m\u001b[0;34m\u001b[0m\u001b[0m\n",
            "\u001b[0;32m/usr/local/lib/python3.10/dist-packages/pandas/_libs/index.pyx\u001b[0m in \u001b[0;36mpandas._libs.index.IndexEngine.get_loc\u001b[0;34m()\u001b[0m\n",
            "\u001b[0;32m/usr/local/lib/python3.10/dist-packages/pandas/_libs/index.pyx\u001b[0m in \u001b[0;36mpandas._libs.index.IndexEngine.get_loc\u001b[0;34m()\u001b[0m\n",
            "\u001b[0;32mpandas/_libs/hashtable_class_helper.pxi\u001b[0m in \u001b[0;36mpandas._libs.hashtable.PyObjectHashTable.get_item\u001b[0;34m()\u001b[0m\n",
            "\u001b[0;32mpandas/_libs/hashtable_class_helper.pxi\u001b[0m in \u001b[0;36mpandas._libs.hashtable.PyObjectHashTable.get_item\u001b[0;34m()\u001b[0m\n",
            "\u001b[0;31mKeyError\u001b[0m: 'Number of Victories'",
            "\nThe above exception was the direct cause of the following exception:\n",
            "\u001b[0;31mKeyError\u001b[0m                                  Traceback (most recent call last)",
            "\u001b[0;32m<ipython-input-15-bf89bd2e6872>\u001b[0m in \u001b[0;36m<cell line: 3>\u001b[0;34m()\u001b[0m\n\u001b[1;32m      1\u001b[0m \u001b[0;31m# Este os lo damos hecho como ejemplo\u001b[0m\u001b[0;34m\u001b[0m\u001b[0;34m\u001b[0m\u001b[0m\n\u001b[1;32m      2\u001b[0m \u001b[0;34m\u001b[0m\u001b[0m\n\u001b[0;32m----> 3\u001b[0;31m \u001b[0mdf\u001b[0m\u001b[0;34m[\u001b[0m\u001b[0;34m'Number of Victories'\u001b[0m\u001b[0;34m]\u001b[0m \u001b[0;34m=\u001b[0m \u001b[0mdf\u001b[0m\u001b[0;34m[\u001b[0m\u001b[0;34m'Number of Victories'\u001b[0m\u001b[0;34m]\u001b[0m\u001b[0;34m.\u001b[0m\u001b[0mastype\u001b[0m\u001b[0;34m(\u001b[0m\u001b[0mint\u001b[0m\u001b[0;34m)\u001b[0m\u001b[0;34m\u001b[0m\u001b[0;34m\u001b[0m\u001b[0m\n\u001b[0m\u001b[1;32m      4\u001b[0m \u001b[0;34m\u001b[0m\u001b[0m\n\u001b[1;32m      5\u001b[0m \u001b[0mdf\u001b[0m\u001b[0;34m\u001b[0m\u001b[0;34m\u001b[0m\u001b[0m\n",
            "\u001b[0;32m/usr/local/lib/python3.10/dist-packages/pandas/core/frame.py\u001b[0m in \u001b[0;36m__getitem__\u001b[0;34m(self, key)\u001b[0m\n\u001b[1;32m   3805\u001b[0m             \u001b[0;32mif\u001b[0m \u001b[0mself\u001b[0m\u001b[0;34m.\u001b[0m\u001b[0mcolumns\u001b[0m\u001b[0;34m.\u001b[0m\u001b[0mnlevels\u001b[0m \u001b[0;34m>\u001b[0m \u001b[0;36m1\u001b[0m\u001b[0;34m:\u001b[0m\u001b[0;34m\u001b[0m\u001b[0;34m\u001b[0m\u001b[0m\n\u001b[1;32m   3806\u001b[0m                 \u001b[0;32mreturn\u001b[0m \u001b[0mself\u001b[0m\u001b[0;34m.\u001b[0m\u001b[0m_getitem_multilevel\u001b[0m\u001b[0;34m(\u001b[0m\u001b[0mkey\u001b[0m\u001b[0;34m)\u001b[0m\u001b[0;34m\u001b[0m\u001b[0;34m\u001b[0m\u001b[0m\n\u001b[0;32m-> 3807\u001b[0;31m             \u001b[0mindexer\u001b[0m \u001b[0;34m=\u001b[0m \u001b[0mself\u001b[0m\u001b[0;34m.\u001b[0m\u001b[0mcolumns\u001b[0m\u001b[0;34m.\u001b[0m\u001b[0mget_loc\u001b[0m\u001b[0;34m(\u001b[0m\u001b[0mkey\u001b[0m\u001b[0;34m)\u001b[0m\u001b[0;34m\u001b[0m\u001b[0;34m\u001b[0m\u001b[0m\n\u001b[0m\u001b[1;32m   3808\u001b[0m             \u001b[0;32mif\u001b[0m \u001b[0mis_integer\u001b[0m\u001b[0;34m(\u001b[0m\u001b[0mindexer\u001b[0m\u001b[0;34m)\u001b[0m\u001b[0;34m:\u001b[0m\u001b[0;34m\u001b[0m\u001b[0;34m\u001b[0m\u001b[0m\n\u001b[1;32m   3809\u001b[0m                 \u001b[0mindexer\u001b[0m \u001b[0;34m=\u001b[0m \u001b[0;34m[\u001b[0m\u001b[0mindexer\u001b[0m\u001b[0;34m]\u001b[0m\u001b[0;34m\u001b[0m\u001b[0;34m\u001b[0m\u001b[0m\n",
            "\u001b[0;32m/usr/local/lib/python3.10/dist-packages/pandas/core/indexes/base.py\u001b[0m in \u001b[0;36mget_loc\u001b[0;34m(self, key, method, tolerance)\u001b[0m\n\u001b[1;32m   3802\u001b[0m                 \u001b[0;32mreturn\u001b[0m \u001b[0mself\u001b[0m\u001b[0;34m.\u001b[0m\u001b[0m_engine\u001b[0m\u001b[0;34m.\u001b[0m\u001b[0mget_loc\u001b[0m\u001b[0;34m(\u001b[0m\u001b[0mcasted_key\u001b[0m\u001b[0;34m)\u001b[0m\u001b[0;34m\u001b[0m\u001b[0;34m\u001b[0m\u001b[0m\n\u001b[1;32m   3803\u001b[0m             \u001b[0;32mexcept\u001b[0m \u001b[0mKeyError\u001b[0m \u001b[0;32mas\u001b[0m \u001b[0merr\u001b[0m\u001b[0;34m:\u001b[0m\u001b[0;34m\u001b[0m\u001b[0;34m\u001b[0m\u001b[0m\n\u001b[0;32m-> 3804\u001b[0;31m                 \u001b[0;32mraise\u001b[0m \u001b[0mKeyError\u001b[0m\u001b[0;34m(\u001b[0m\u001b[0mkey\u001b[0m\u001b[0;34m)\u001b[0m \u001b[0;32mfrom\u001b[0m \u001b[0merr\u001b[0m\u001b[0;34m\u001b[0m\u001b[0;34m\u001b[0m\u001b[0m\n\u001b[0m\u001b[1;32m   3805\u001b[0m             \u001b[0;32mexcept\u001b[0m \u001b[0mTypeError\u001b[0m\u001b[0;34m:\u001b[0m\u001b[0;34m\u001b[0m\u001b[0;34m\u001b[0m\u001b[0m\n\u001b[1;32m   3806\u001b[0m                 \u001b[0;31m# If we have a listlike key, _check_indexing_error will raise\u001b[0m\u001b[0;34m\u001b[0m\u001b[0;34m\u001b[0m\u001b[0m\n",
            "\u001b[0;31mKeyError\u001b[0m: 'Number of Victories'"
          ]
        }
      ]
    },
    {
      "cell_type": "markdown",
      "source": [
        "¡Ya está! Nuestro dataframe es legible y podemos trabajar con él porque no contiene valores nulos."
      ],
      "metadata": {
        "id": "JMG-SgHq60JS"
      }
    }
  ]
}