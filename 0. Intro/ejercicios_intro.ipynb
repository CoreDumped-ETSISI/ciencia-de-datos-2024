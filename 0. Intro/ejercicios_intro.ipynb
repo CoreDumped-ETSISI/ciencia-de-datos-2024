{
 "cells": [
  {
   "cell_type": "code",
   "execution_count": null,
   "metadata": {
    "id": "zuW9SAZIsXoK"
   },
   "outputs": [],
   "source": [
    "import numpy as np\n",
    "import pandas as pd"
   ]
  },
  {
   "cell_type": "markdown",
   "metadata": {
    "id": "vNJJAQVSqU0F"
   },
   "source": [
    "# Ejercicios de NumPy y pandas\n",
    "\n",
    "Estos ejercicios están pensados para que probéis de primera mano las capacidades de las librerías NumPy y pandas."
   ]
  },
  {
   "cell_type": "markdown",
   "metadata": {
    "id": "iUUKhLecq5gc"
   },
   "source": [
    "## Ejercicios de NumPy"
   ]
  },
  {
   "cell_type": "markdown",
   "metadata": {
    "id": "IIc-xukPq7Lp"
   },
   "source": [
    "### 1 - Creación de arrays\n",
    "\n",
    "a) Crea un array vacío en numpy de dimensiones 3×6"
   ]
  },
  {
   "cell_type": "code",
   "execution_count": null,
   "metadata": {
    "colab": {
     "base_uri": "https://localhost:8080/"
    },
    "id": "7ae7FAVYqRCI",
    "outputId": "0ce5a1e6-94e5-4d28-8ec6-6fca6f9b078b"
   },
   "outputs": [],
   "source": []
  },
  {
   "cell_type": "markdown",
   "metadata": {
    "id": "GuIkBbobscuW"
   },
   "source": [
    "b) Repite el apartado a, pero llénalo con un número, como por ejemplo el `0`."
   ]
  },
  {
   "cell_type": "code",
   "execution_count": null,
   "metadata": {
    "colab": {
     "base_uri": "https://localhost:8080/"
    },
    "id": "w79FhgCnsXIx",
    "outputId": "e2c437e8-5e84-4a73-c567-417e723da1d2"
   },
   "outputs": [],
   "source": []
  },
  {
   "cell_type": "markdown",
   "metadata": {
    "id": "PjT9pLcRs_0d"
   },
   "source": [
    "### 2 - Comprobación de valores en un array\n",
    "\n",
    "Dado el array `arr`:"
   ]
  },
  {
   "cell_type": "code",
   "execution_count": null,
   "metadata": {
    "id": "Yr66dfW5tlqy"
   },
   "outputs": [],
   "source": []
  },
  {
   "cell_type": "markdown",
   "metadata": {
    "id": "ZO0zpTt-tp1t"
   },
   "source": [
    "a) Comprueba con `numpy` si contiene el número 6"
   ]
  },
  {
   "cell_type": "code",
   "execution_count": null,
   "metadata": {
    "colab": {
     "base_uri": "https://localhost:8080/"
    },
    "id": "_yCQUDVFsjR_",
    "outputId": "fff67b0b-2c56-47c3-d46d-45011f41e18f"
   },
   "outputs": [],
   "source": []
  },
  {
   "cell_type": "markdown",
   "metadata": {
    "id": "LBZAydyqv3Fz"
   },
   "source": [
    "b) Comprueba con `numpy` si contiene el número 4"
   ]
  },
  {
   "cell_type": "code",
   "execution_count": null,
   "metadata": {
    "colab": {
     "base_uri": "https://localhost:8080/"
    },
    "id": "pLZBIhaRv1yK",
    "outputId": "bf67fd38-b4c6-4cbb-a927-1b2cf42e5a35"
   },
   "outputs": [],
   "source": []
  },
  {
   "cell_type": "markdown",
   "metadata": {
    "id": "Zvv3DD3qwD8A"
   },
   "source": [
    "### 3 - Operaciones con numpy arrays"
   ]
  },
  {
   "cell_type": "markdown",
   "metadata": {
    "id": "IcmcwebAwOnm"
   },
   "source": [
    "a) Reduce la siguiente matriz (array de 2 dimensiones) a una dimensión:"
   ]
  },
  {
   "cell_type": "code",
   "execution_count": null,
   "metadata": {
    "colab": {
     "base_uri": "https://localhost:8080/"
    },
    "id": "a1JmssC4wJTg",
    "outputId": "3fe93c91-31e8-4f7d-f087-041afefd8890"
   },
   "outputs": [],
   "source": []
  },
  {
   "cell_type": "markdown",
   "metadata": {
    "id": "jt4vlpvSw_Ul"
   },
   "source": [
    "b) Dados los vectores (arrays de 1 dimensión) `v_a` y `v_b`, calcula, **SIN USAR BUCLES**:\n",
    "- `v_a` + `v_b` (elemento a elemento)\n",
    "- `v_a` * `v_b` (elemento a elemento)\n",
    "- Su producto escalar (dot product)   "
   ]
  },
  {
   "cell_type": "code",
   "execution_count": null,
   "metadata": {
    "colab": {
     "base_uri": "https://localhost:8080/"
    },
    "id": "mM1Q6Ei6wXdO",
    "outputId": "1cb7c5f5-3fa1-4266-a018-f306edb1b280"
   },
   "outputs": [],
   "source": []
  },
  {
   "cell_type": "code",
   "execution_count": null,
   "metadata": {
    "id": "ia6HUpwwxur1"
   },
   "outputs": [],
   "source": []
  },
  {
   "cell_type": "markdown",
   "metadata": {
    "id": "48B6RRgIyr0a"
   },
   "source": [
    "## Ejercicios de pandas\n",
    "\n",
    "Trabajaremos sobre un ejemplo de `DataFrame` que contiene datos sobre pilotos de fórmula 1.\n",
    "\n",
    "Contamos con los siguientes datos:\n",
    "\n",
    "|   Driver Name   | Number of Victories |  Country   |\n",
    "|:---------------:|:-------------------:|:----------:|\n",
    "|    Hamilton     |         103         |     UK     |\n",
    "|   Schumacher    |         91          |  Germany   |\n",
    "|    Raikkonen    |         26          |  Finland   |\n",
    "|     Alonso      |         32          |   Spain    |\n",
    "|     Vettel      |         53          |  Germany   |\n",
    "|      Sainz      |         2           |   Spain    |\n",
    "|    Hakkinen     |         20          |  Finland   |\n",
    "|      Senna      |         41          |  Brazil    |\n",
    "|   Verstappen    |         54          |Netherlands|\n",
    "|   Fittipaldi    |         14          |  Brazil    |"
   ]
  },
  {
   "cell_type": "markdown",
   "metadata": {
    "id": "dVeJUl3jyxNB"
   },
   "source": [
    "### 1 - Creación de DataFrames\n",
    "\n",
    "Empezaremos creando un dataframe sobre el que operar fijándonos en el DataFrame del ejemplo anterior.\n",
    "\n",
    "Dada la siguiente lista bidimensional (matriz) y el array de nombres de columnas, crea el DataFrame mencionado anteriormente con `pandas`:"
   ]
  },
  {
   "cell_type": "code",
   "execution_count": null,
   "metadata": {
    "colab": {
     "base_uri": "https://localhost:8080/",
     "height": 426
    },
    "id": "8l7ms-OzytVo",
    "outputId": "d4b2568e-55f1-43da-c811-dec6a1ea4b40"
   },
   "outputs": [],
   "source": []
  },
  {
   "cell_type": "markdown",
   "metadata": {
    "id": "vYVNUlhV4UWt"
   },
   "source": [
    "### 2 - Selección de filas basada en condiciones\n",
    "\n",
    "- *Anotación: puedes obtener los resultados de estos apartados en el formato que prefieras, no importa si es array o dataframe*"
   ]
  },
  {
   "cell_type": "markdown",
   "metadata": {
    "id": "7TCO0dNK4XIG"
   },
   "source": [
    "a) ¿Qué piloto tiene el mayor número de victorias? ¿Y el menor?\n",
    "\n",
    "- *Pista: puedes usar los métodos idxmax e idxmin*\n",
    "\n",
    "\n"
   ]
  },
  {
   "cell_type": "code",
   "execution_count": null,
   "metadata": {
    "colab": {
     "base_uri": "https://localhost:8080/"
    },
    "id": "9Hr3fNw42T2C",
    "outputId": "cb2141ef-916e-4c1c-fbab-87c82fab348e"
   },
   "outputs": [],
   "source": []
  },
  {
   "cell_type": "markdown",
   "metadata": {
    "id": "rh1axHC-4bNM"
   },
   "source": [
    "b) Obtén los pilotos con más de 20 victorias."
   ]
  },
  {
   "cell_type": "code",
   "execution_count": null,
   "metadata": {
    "colab": {
     "base_uri": "https://localhost:8080/"
    },
    "id": "ECLyebOS4eeb",
    "outputId": "4c780e5a-72d8-4802-ce34-299137edf0e0"
   },
   "outputs": [],
   "source": []
  },
  {
   "cell_type": "markdown",
   "metadata": {
    "id": "m7G7zPkc69yw"
   },
   "source": [
    "c) ¿Cuántos pilotos finlandeses hay?"
   ]
  },
  {
   "cell_type": "code",
   "execution_count": null,
   "metadata": {
    "colab": {
     "base_uri": "https://localhost:8080/"
    },
    "id": "UIuV-ysL7ABy",
    "outputId": "fa76602c-5786-4647-bf08-c39e11a6b25b"
   },
   "outputs": [],
   "source": []
  },
  {
   "cell_type": "markdown",
   "metadata": {
    "id": "WkBpC_uK30WC"
   },
   "source": [
    "### 3 - Una pequeña introducción a limpieza de datos\n",
    "\n",
    "Vaya... Parece que se han colado valores nulos en nuestro DataFrame. De esta forma no podremos operar con él en el futuro, vamos a hacer una pequeña limpieza en dos pasos.\n",
    "\n",
    "\n",
    "*Importante: Esto es un pequeño adelanto del tema de preprocesamiento, así que os daremos alguna pista*"
   ]
  },
  {
   "cell_type": "markdown",
   "metadata": {
    "id": "xavcfFnW4v8H"
   },
   "source": [
    "a) Empecemos eliminando los valores nulos por ser los más problemáticos. Podríamos usar el método `dropna` de pandas."
   ]
  },
  {
   "cell_type": "code",
   "execution_count": null,
   "metadata": {
    "colab": {
     "base_uri": "https://localhost:8080/",
     "height": 394
    },
    "id": "nSA6H-K3403G",
    "outputId": "11081013-17a0-41e1-efc4-51efd330b678"
   },
   "outputs": [],
   "source": []
  },
  {
   "cell_type": "markdown",
   "metadata": {
    "id": "cnFIxjED5QzI"
   },
   "source": [
    "b) Ahora queda una pregunta... ¿Hace falta que el número de victorias tenga decimales? No se puede ganar media carrera... Como es un poco difícil de mirar, podríamos convertirlo a enteros.\n",
    "\n",
    "De esta manera podemos ilustrar una gran comodidad que ofrece pandas: cambiar de tipo una columna entera (en el futuro, es posible que os encontréis columnas que vienen en un formato que no es, por ejemplo números en forma de string)."
   ]
  },
  {
   "cell_type": "code",
   "execution_count": null,
   "metadata": {
    "colab": {
     "base_uri": "https://localhost:8080/",
     "height": 499
    },
    "id": "isTy3JfV5hwC",
    "outputId": "2d0646d6-414b-47e5-f38a-76f201ff35e2"
   },
   "outputs": [],
   "source": []
  },
  {
   "cell_type": "markdown",
   "metadata": {
    "id": "JMG-SgHq60JS"
   },
   "source": [
    "¡Ya está! Nuestro dataframe es legible y podemos trabajar con él porque no contiene valores nulos."
   ]
  }
 ],
 "metadata": {
  "colab": {
   "collapsed_sections": [
    "iUUKhLecq5gc"
   ],
   "provenance": []
  },
  "kernelspec": {
   "display_name": "Python 3 (ipykernel)",
   "language": "python",
   "name": "python3"
  },
  "language_info": {
   "codemirror_mode": {
    "name": "ipython",
    "version": 3
   },
   "file_extension": ".py",
   "mimetype": "text/x-python",
   "name": "python",
   "nbconvert_exporter": "python",
   "pygments_lexer": "ipython3",
   "version": "3.10.12"
  }
 },
 "nbformat": 4,
 "nbformat_minor": 1
}
