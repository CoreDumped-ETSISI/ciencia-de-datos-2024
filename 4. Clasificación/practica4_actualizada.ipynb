{
  "nbformat": 4,
  "nbformat_minor": 0,
  "metadata": {
    "colab": {
      "provenance": []
    },
    "kernelspec": {
      "name": "python3",
      "display_name": "Python 3"
    },
    "language_info": {
      "name": "python"
    }
  },
  "cells": [
    {
      "cell_type": "markdown",
      "source": [
        "# Práctica 4 - Clasificación\n",
        "\n",
        "Nombres:\n",
        "* Autor/a 1\n",
        "* Autor/a 2\n",
        "..."
      ],
      "metadata": {
        "id": "XhfcFWMDFjI3"
      }
    },
    {
      "cell_type": "markdown",
      "source": [
        "En esta práctica, tendréis que predecir la concesión de créditos de un banco. Tenéis los datasets abajo igual que en la práctica anterior.\n",
        "\n",
        "Esta vez, obligaremos a subir una submission a la competición de kaggle, con premio especial para:\n",
        "* Los ganadores de la competición\n",
        "* Todo aquel que supere la precisión obtenida por los mentores\n",
        "\n",
        "Podéis encontrar la URL de kaggle (donde se encuentran, entre otras cosas, los criterios de evaluación) aquí:\n",
        "https://www.kaggle.com/t/9c6fa1489e714d45889b013bd2abd267\n",
        "\n",
        "Suerte!"
      ],
      "metadata": {
        "id": "v_VR3cwaIpub"
      }
    },
    {
      "cell_type": "code",
      "execution_count": 2,
      "metadata": {
        "id": "v6chEdwm9GWd"
      },
      "outputs": [],
      "source": [
        "train_url = \"https://gist.githubusercontent.com/w-dan/5b1d67c4f507b2b826ed90bec372f1a4/raw/24679757c6bf9bcc74ef4d7944196a1f37b93eba/train3.csv\"\n",
        "test_url = \"https://gist.githubusercontent.com/w-dan/5b1d67c4f507b2b826ed90bec372f1a4/raw/24679757c6bf9bcc74ef4d7944196a1f37b93eba/test3.csv\""
      ]
    },
    {
      "cell_type": "markdown",
      "source": [
        "Un consejo para las submissions:"
      ],
      "metadata": {
        "id": "6BWj3rauIs0a"
      }
    },
    {
      "cell_type": "markdown",
      "source": [
        "Guardad la columna `ID` al principio, así podéis droppear sin riesgos\n",
        "\n",
        "\n",
        "```python\n",
        "df_test = pd.read_csv(test_url)\n",
        "submission = df_test[['ID']].copy()      # preparamos un dataframe con una columna 'ID'\n",
        "```\n"
      ],
      "metadata": {
        "id": "JXEHMjnJIwt7"
      }
    },
    {
      "cell_type": "markdown",
      "source": [
        "Y ahora, para montar la submission:\n",
        "\n",
        "```python\n",
        "mis_predicciones = mi_clasificador.predict(df_test)\n",
        "\n",
        "# al final del ejercicio, guardamos las predicciones en el dataframe 'submission' que creamos al principio\n",
        "submission['Credit_Score'] = y_pred_dftest\n",
        "\n",
        "# si habéis cambiado a números (algunos algoritmos lo requieren) la variable objetivo, revertid los cambios, por ejemplo, asi:\n",
        "submission.Credit_Score = submission.Credit_Score.replace({0: \"Poor\", 1: \"Standard\", 2: \"Good\"})\n",
        "\n",
        "```"
      ],
      "metadata": {
        "id": "Ym98_WE6JBZ9"
      }
    },
    {
      "cell_type": "markdown",
      "source": [
        "Para guardarla como csv y subirla a kaggle:\n",
        "\n",
        "```python\n",
        "submission.to_csv(\"./mi_submission.csv\", index=False)\n",
        "\n",
        "# o si usáis google colab, os dejo una forma cómoda de descargar el csv:\n",
        "from google.colab import files\n",
        "submission.to_csv('mi_submission.csv', index=False)\n",
        "files.download('mi_submission.csv')\n",
        "```\n",
        "\n",
        "Y directos a la cima del ranking :D\n",
        "\n",
        "\n",
        "¡Mucha suerte!"
      ],
      "metadata": {
        "id": "ylWihuvYJfbI"
      }
    },
    {
      "cell_type": "code",
      "source": [],
      "metadata": {
        "id": "WkrnYjqCI7MV"
      },
      "execution_count": null,
      "outputs": []
    }
  ]
}