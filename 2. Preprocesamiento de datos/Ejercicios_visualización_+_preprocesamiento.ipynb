{
  "cells": [
    {
      "cell_type": "markdown",
      "metadata": {
        "id": "YGNHQE4Obxy6"
      },
      "source": [
        "Vamos a trabajar con datos de verdad. Podéis encontrar una serie de conjuntos de datos que vamos a meter en dataframes:"
      ]
    },
    {
      "cell_type": "code",
      "execution_count": 1,
      "metadata": {
        "id": "iZwz7L0oa0q7"
      },
      "outputs": [
        {
          "name": "stderr",
          "output_type": "stream",
          "text": [
            "/var/folders/nq/192typw95wxcbpc296njlyy00000gn/T/ipykernel_23879/3153033848.py:1: DeprecationWarning: \n",
            "Pyarrow will become a required dependency of pandas in the next major release of pandas (pandas 3.0),\n",
            "(to allow more performant data types, such as the Arrow string type, and better interoperability with other libraries)\n",
            "but was not found to be installed on your system.\n",
            "If this would cause problems for you,\n",
            "please provide us feedback at https://github.com/pandas-dev/pandas/issues/54466\n",
            "        \n",
            "  import pandas as pd\n"
          ]
        }
      ],
      "source": [
        "import pandas as pd\n",
        "import matplotlib.pyplot as plt\n",
        "from sklearn.preprocessing import MinMaxScaler"
      ]
    },
    {
      "cell_type": "markdown",
      "metadata": {
        "id": "SMl8iW7Pc8FX"
      },
      "source": [
        "Una forma cómoda de cargar los datos puede ser subirlos en formato .csv a un *gist* de *GitHub* y utilizar la función *read_csv* de pandas pasándole la url del *gist*.<br></br>\n",
        "No va a hacer falta que lo hagáis en estos ejercicios, pero está bien saberlo para el futuro. Os explicaremos bien cómo se hace cuando os toque usarlo."
      ]
    },
    {
      "cell_type": "code",
      "execution_count": 2,
      "metadata": {
        "id": "mGvydOa-bWF2"
      },
      "outputs": [],
      "source": [
        "gasolina_url = \"https://gist.githubusercontent.com/w-dan/4a788daed122583e3cabd7b81a2b3aea/raw/9129ed5974093d73623fb653899f385325c0e18e/gas.csv\"\n",
        "felicidad_url = \"https://gist.githubusercontent.com/w-dan/43e1bb780e5a6623764f78925aa31337/raw/ecc871ef48fc16a8364ce06d7e72a7a4ce07f790/happiness.csv\""
      ]
    },
    {
      "cell_type": "code",
      "execution_count": 3,
      "metadata": {
        "id": "P42ZrmpCblY0"
      },
      "outputs": [],
      "source": [
        "df_gasolina = pd.read_csv(gasolina_url)\n",
        "df_felicidad = pd.read_csv(felicidad_url)"
      ]
    },
    {
      "cell_type": "markdown",
      "metadata": {
        "id": "v_RjZ4iddHT8"
      },
      "source": [
        "Visualizamos el dataframe de los precios mensuales de gasolina, por ejemplo:"
      ]
    },
    {
      "cell_type": "code",
      "execution_count": 4,
      "metadata": {
        "colab": {
          "base_uri": "https://localhost:8080/",
          "height": 424
        },
        "id": "C3Ky2355bogT",
        "outputId": "f71e74ba-7ada-4cde-974e-c636b778843c"
      },
      "outputs": [
        {
          "data": {
            "text/html": [
              "<div>\n",
              "<style scoped>\n",
              "    .dataframe tbody tr th:only-of-type {\n",
              "        vertical-align: middle;\n",
              "    }\n",
              "\n",
              "    .dataframe tbody tr th {\n",
              "        vertical-align: top;\n",
              "    }\n",
              "\n",
              "    .dataframe thead th {\n",
              "        text-align: right;\n",
              "    }\n",
              "</style>\n",
              "<table border=\"1\" class=\"dataframe\">\n",
              "  <thead>\n",
              "    <tr style=\"text-align: right;\">\n",
              "      <th></th>\n",
              "      <th>Fiscal Year</th>\n",
              "      <th>Fiscal Week</th>\n",
              "      <th>Current Year Production</th>\n",
              "      <th>Previous Year Production</th>\n",
              "      <th>Current Year Cumulative Production</th>\n",
              "    </tr>\n",
              "  </thead>\n",
              "  <tbody>\n",
              "    <tr>\n",
              "      <th>0</th>\n",
              "      <td>2023</td>\n",
              "      <td>16</td>\n",
              "      <td>2393748000</td>\n",
              "      <td>2417856000</td>\n",
              "      <td>3.964972e+10</td>\n",
              "    </tr>\n",
              "    <tr>\n",
              "      <th>1</th>\n",
              "      <td>2023</td>\n",
              "      <td>15</td>\n",
              "      <td>2367876000</td>\n",
              "      <td>2324364000</td>\n",
              "      <td>3.725597e+10</td>\n",
              "    </tr>\n",
              "    <tr>\n",
              "      <th>2</th>\n",
              "      <td>2023</td>\n",
              "      <td>14</td>\n",
              "      <td>2222052000</td>\n",
              "      <td>2402568000</td>\n",
              "      <td>3.488810e+10</td>\n",
              "    </tr>\n",
              "    <tr>\n",
              "      <th>3</th>\n",
              "      <td>2023</td>\n",
              "      <td>13</td>\n",
              "      <td>2209116000</td>\n",
              "      <td>2858856000</td>\n",
              "      <td>3.266605e+10</td>\n",
              "    </tr>\n",
              "    <tr>\n",
              "      <th>4</th>\n",
              "      <td>2023</td>\n",
              "      <td>12</td>\n",
              "      <td>2742138000</td>\n",
              "      <td>2641884000</td>\n",
              "      <td>3.045693e+10</td>\n",
              "    </tr>\n",
              "    <tr>\n",
              "      <th>...</th>\n",
              "      <td>...</td>\n",
              "      <td>...</td>\n",
              "      <td>...</td>\n",
              "      <td>...</td>\n",
              "      <td>...</td>\n",
              "    </tr>\n",
              "    <tr>\n",
              "      <th>168</th>\n",
              "      <td>2020</td>\n",
              "      <td>5</td>\n",
              "      <td>2688630000</td>\n",
              "      <td>2675106000</td>\n",
              "      <td>1.391590e+10</td>\n",
              "    </tr>\n",
              "    <tr>\n",
              "      <th>169</th>\n",
              "      <td>2020</td>\n",
              "      <td>4</td>\n",
              "      <td>2876496000</td>\n",
              "      <td>2723028000</td>\n",
              "      <td>1.122727e+10</td>\n",
              "    </tr>\n",
              "    <tr>\n",
              "      <th>170</th>\n",
              "      <td>2020</td>\n",
              "      <td>3</td>\n",
              "      <td>2819460000</td>\n",
              "      <td>2741256000</td>\n",
              "      <td>8.350776e+09</td>\n",
              "    </tr>\n",
              "    <tr>\n",
              "      <th>171</th>\n",
              "      <td>2020</td>\n",
              "      <td>2</td>\n",
              "      <td>2750076000</td>\n",
              "      <td>2699508000</td>\n",
              "      <td>5.531316e+09</td>\n",
              "    </tr>\n",
              "    <tr>\n",
              "      <th>172</th>\n",
              "      <td>2020</td>\n",
              "      <td>1</td>\n",
              "      <td>2781240000</td>\n",
              "      <td>2668932000</td>\n",
              "      <td>2.781240e+09</td>\n",
              "    </tr>\n",
              "  </tbody>\n",
              "</table>\n",
              "<p>173 rows × 5 columns</p>\n",
              "</div>"
            ],
            "text/plain": [
              "     Fiscal Year  Fiscal Week  Current Year Production  \\\n",
              "0           2023           16               2393748000   \n",
              "1           2023           15               2367876000   \n",
              "2           2023           14               2222052000   \n",
              "3           2023           13               2209116000   \n",
              "4           2023           12               2742138000   \n",
              "..           ...          ...                      ...   \n",
              "168         2020            5               2688630000   \n",
              "169         2020            4               2876496000   \n",
              "170         2020            3               2819460000   \n",
              "171         2020            2               2750076000   \n",
              "172         2020            1               2781240000   \n",
              "\n",
              "     Previous Year Production  Current Year Cumulative Production  \n",
              "0                  2417856000                        3.964972e+10  \n",
              "1                  2324364000                        3.725597e+10  \n",
              "2                  2402568000                        3.488810e+10  \n",
              "3                  2858856000                        3.266605e+10  \n",
              "4                  2641884000                        3.045693e+10  \n",
              "..                        ...                                 ...  \n",
              "168                2675106000                        1.391590e+10  \n",
              "169                2723028000                        1.122727e+10  \n",
              "170                2741256000                        8.350776e+09  \n",
              "171                2699508000                        5.531316e+09  \n",
              "172                2668932000                        2.781240e+09  \n",
              "\n",
              "[173 rows x 5 columns]"
            ]
          },
          "execution_count": 4,
          "metadata": {},
          "output_type": "execute_result"
        }
      ],
      "source": [
        "df_gasolina"
      ]
    },
    {
      "cell_type": "markdown",
      "metadata": {
        "id": "MnkwRs92dK7c"
      },
      "source": [
        "Poco legible, ¿verdad? Vamos a intentar hacerlo un poco más visible."
      ]
    },
    {
      "cell_type": "markdown",
      "metadata": {
        "id": "14yC5cRfdS4p"
      },
      "source": [
        "## Ejercicio 1\n",
        "\n",
        "Representa gráficamente las columnas \"Current Year Production\" y \"Current Year Cumulative Production\". ¿Qué distribución dirías que siguen por su aspecto? ¿Borrarías datos? En caso afirmativo, ¿cuáles?\n",
        "*Esto aplica para todos los ejercicios, pero puedes insertar tantas celdas de código como necesites.*"
      ]
    },
    {
      "cell_type": "code",
      "execution_count": null,
      "metadata": {
        "colab": {
          "base_uri": "https://localhost:8080/",
          "height": 550
        },
        "id": "0G5yAZSFhPlY",
        "outputId": "f373d549-448a-486f-eb8a-b2663c3e5df2"
      },
      "outputs": [],
      "source": []
    },
    {
      "cell_type": "markdown",
      "metadata": {
        "id": "7OqkkDr7djJ0"
      },
      "source": [
        "## Ejercicio 2\n",
        "\n",
        "Crea una nueva columna \"Diferencia\" en el dataframe que contenga la diferencia entre la cantidad producida en el año actual (Current Year Production) y el año anterior (Previous Year Production)."
      ]
    },
    {
      "cell_type": "code",
      "execution_count": null,
      "metadata": {
        "colab": {
          "base_uri": "https://localhost:8080/",
          "height": 424
        },
        "id": "5z7vzpFmeJqL",
        "outputId": "46fc6032-3689-4d67-c5c1-d28280664e85"
      },
      "outputs": [],
      "source": []
    },
    {
      "cell_type": "markdown",
      "metadata": {
        "id": "DdochWm_hWs3"
      },
      "source": [
        "## Ejercicio 3"
      ]
    },
    {
      "cell_type": "markdown",
      "metadata": {
        "id": "aNNzg2LXhY42"
      },
      "source": [
        "## 3.1\n",
        "Acota los valores de la columna \"Current Year Cumulative Production\" entre 0 y 1."
      ]
    },
    {
      "cell_type": "code",
      "execution_count": null,
      "metadata": {
        "colab": {
          "base_uri": "https://localhost:8080/",
          "height": 424
        },
        "id": "evSI3OxhhYJ_",
        "outputId": "1b3ce583-04cf-4dc6-fbf2-59f285f563df"
      },
      "outputs": [],
      "source": []
    },
    {
      "cell_type": "markdown",
      "metadata": {
        "id": "3liT3FxwhhSn"
      },
      "source": [
        "### 3.2\n",
        "¿Qué columnas eliminarías por no aportar nada de información?"
      ]
    },
    {
      "cell_type": "markdown",
      "metadata": {},
      "source": [
        "### 3.3\n",
        "\n",
        "¿Podrías aplicar un StandardScaler a alguna de las columnas del DataFrame? ¿Por qué?"
      ]
    },
    {
      "cell_type": "markdown",
      "metadata": {},
      "source": [
        "## Ejercicio 4"
      ]
    },
    {
      "cell_type": "markdown",
      "metadata": {},
      "source": [
        "### 4.1\n",
        "\n",
        "En el DataFrame `df_felicidad`, convierte la columna \"Country or region\" a un valor numérico. Utiliza los dos métodos que has aprendido."
      ]
    },
    {
      "cell_type": "code",
      "execution_count": null,
      "metadata": {},
      "outputs": [],
      "source": []
    },
    {
      "cell_type": "markdown",
      "metadata": {},
      "source": [
        "### 4.2\n",
        "\n",
        "¿Cuál de los dos métodos te parece mejor? ¿Por qué?"
      ]
    },
    {
      "cell_type": "markdown",
      "metadata": {},
      "source": [
        "# Ejercicio 5"
      ]
    },
    {
      "cell_type": "markdown",
      "metadata": {},
      "source": [
        "### 5.1\n",
        "\n",
        "Averigua si el DataFrame `df_felicidad` tiene elementos nulos. Consigue todas las filas en las que haya elementos nulos."
      ]
    },
    {
      "cell_type": "code",
      "execution_count": null,
      "metadata": {},
      "outputs": [],
      "source": []
    },
    {
      "cell_type": "markdown",
      "metadata": {},
      "source": [
        "### 5.2\n",
        "\n",
        "Elimina los nulos de `df_felicidad`."
      ]
    },
    {
      "cell_type": "code",
      "execution_count": null,
      "metadata": {},
      "outputs": [],
      "source": []
    },
    {
      "cell_type": "markdown",
      "metadata": {},
      "source": [
        "### 5.3\n",
        "\n",
        "Sustituye todos los nulos que haya en la columna \"Score_2018\" por la media de los valores de esa columna."
      ]
    },
    {
      "cell_type": "code",
      "execution_count": null,
      "metadata": {},
      "outputs": [],
      "source": []
    }
  ],
  "metadata": {
    "colab": {
      "authorship_tag": "ABX9TyNviW5vQtKiP5v2LmRncpou",
      "provenance": []
    },
    "kernelspec": {
      "display_name": "Python 3",
      "name": "python3"
    },
    "language_info": {
      "codemirror_mode": {
        "name": "ipython",
        "version": 3
      },
      "file_extension": ".py",
      "mimetype": "text/x-python",
      "name": "python",
      "nbconvert_exporter": "python",
      "pygments_lexer": "ipython3",
      "version": "3.12.1"
    }
  },
  "nbformat": 4,
  "nbformat_minor": 0
}
