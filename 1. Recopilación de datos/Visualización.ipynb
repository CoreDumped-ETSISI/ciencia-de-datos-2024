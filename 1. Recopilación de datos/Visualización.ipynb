{
  "nbformat": 4,
  "nbformat_minor": 0,
  "metadata": {
    "colab": {
      "provenance": [],
      "authorship_tag": "ABX9TyOELg+hTaikXAO3LH5BKhBf"
    },
    "kernelspec": {
      "name": "python3",
      "display_name": "Python 3"
    },
    "language_info": {
      "name": "python"
    }
  },
  "cells": [
    {
      "cell_type": "markdown",
      "source": [
        "# Visualización de datos\n"
      ],
      "metadata": {
        "id": "ILE533_fv3Ma"
      }
    },
    {
      "cell_type": "markdown",
      "source": [
        "## ¿Qué es la visualización de datos?\n",
        "\n",
        "Se trata de la representación gráfica de información y datos mediante el uso de elementos como tablas, gráficos, e incluso mapas.\n",
        "Estas herramientas nos proveen maneras accesibles de ver y entender tendencias, valores anómalos y patrones en los datos de forma rápida y visual. Esto facilita el proceso *crucial* de toma de decisiones durante la fase de preprocesamiento.\n",
        "\n",
        "**Todo el mundo entiende un gráfico que una ristra de líneas.**\n",
        "Esto hace de la visualización de datos un proceso fundamental a la hora de representar datos a una audiencia sin formación técnica."
      ],
      "metadata": {
        "id": "xw8mJXdOv69Y"
      }
    },
    {
      "cell_type": "markdown",
      "source": [
        "![alt text](https://cdnl.tblsft.com/sites/default/files/pages/_data_visualization_definition.gif \"img\")"
      ],
      "metadata": {
        "id": "YJVzo4iHxbnp"
      }
    },
    {
      "cell_type": "markdown",
      "source": [
        "## Ventajas y desventajas\n",
        "\n",
        "A priori, podría parecer que representar algo visualmente no tiene ningún inconveniente, pero eso no siempre es cierto. Los datos se pueden malinterpretar fácilmente si escogemos un tipo de gráfico poco adecuado. "
      ],
      "metadata": {
        "id": "pv_6v9FczHB1"
      }
    },
    {
      "cell_type": "markdown",
      "source": [
        "### Ventajas\n",
        "\n",
        "Por naturaleza, a nuestros ojos les \"llaman la atención\" los colores, patrones y formas.\n",
        "\n",
        "Otras ventajas pueden ser:\n",
        "\n",
        "  - Identificar visualmente patrones y relaciones\n",
        "  - Compartir información de forma sencilla\n",
        "  - Explorar oportunidades de forma interactiva\n"
      ],
      "metadata": {
        "id": "6pw2yke8znkj"
      }
    },
    {
      "cell_type": "markdown",
      "source": [
        "### Desventajas\n",
        "\n",
        "No nos confiemos, también es sencillo realizar un análisis incorrecto/sesgado. También corremos el peligro de caer en errores por un fallo de diseño de la visualización.\n",
        "\n",
        "Sobre todo, es esencial recordar:\n",
        "  - **CORRELACIÓN NO IMPLICA CAUSALIDAD**"
      ],
      "metadata": {
        "id": "Uy_Yv2oaz-vj"
      }
    },
    {
      "cell_type": "markdown",
      "source": [],
      "metadata": {
        "id": "-CGmGV7c1zoQ"
      }
    },
    {
      "cell_type": "markdown",
      "source": [
        "## Tipos de gráficos\n",
        "\n",
        "Existe un abanico muy amplio de técnicas de representación de datos en función de:\n",
        " 1. El tipo de información con la que tratamos\n",
        " 2. Lo que queremos aprender de ella"
      ],
      "metadata": {
        "id": "EtKzRHC5211J"
      }
    },
    {
      "cell_type": "markdown",
      "source": [
        "### De distribución"
      ],
      "metadata": {
        "id": "o3tIwk2o3IMs"
      }
    },
    {
      "cell_type": "markdown",
      "source": [
        "#### Histograma"
      ],
      "metadata": {
        "id": "8n4OaT3t4b0C"
      }
    },
    {
      "cell_type": "code",
      "source": [
        "import matplotlib.pyplot as plt\n",
        "hours = [17, 20, 22, 25, 26, 27, 30, 31, 32, 38, 40, 40, 45, 55]\n",
        "\n",
        "# Initialize layout\n",
        "fig, ax = plt.subplots(figsize = (9, 9))\n",
        "\n",
        "#plot\n",
        "ax.hist(hours, bins=5, edgecolor=\"black\");"
      ],
      "metadata": {
        "colab": {
          "base_uri": "https://localhost:8080/",
          "height": 537
        },
        "id": "nbVHr3Ku4Kvb",
        "outputId": "dad14518-b501-4157-9bc0-278b12c93427"
      },
      "execution_count": 1,
      "outputs": [
        {
          "output_type": "display_data",
          "data": {
            "text/plain": [
              "<Figure size 648x648 with 1 Axes>"
            ],
            "image/png": "[encoded data removed]"
          },
          "metadata": {
            "needs_background": "light"
          }
        }
      ]
    },
    {
      "cell_type": "markdown",
      "source": [
        "#### Diagrama de caja y bigotes (outliers)"
      ],
      "metadata": {
        "id": "_mKC1mK34dm0"
      }
    },
    {
      "cell_type": "code",
      "source": [
        "import seaborn as sns\n",
        "df = sns.load_dataset('iris')\n",
        "\n",
        "sns.boxplot( x=df[\"species\"], y=df[\"sepal_length\"] )"
      ],
      "metadata": {
        "colab": {
          "base_uri": "https://localhost:8080/",
          "height": 296
        },
        "id": "eNLIC7oD4f4o",
        "outputId": "77591474-cf1e-4d1a-869e-5aba579197c0"
      },
      "execution_count": 2,
      "outputs": [
        {
          "output_type": "execute_result",
          "data": {
            "text/plain": [
              "<matplotlib.axes._subplots.AxesSubplot at 0x7f34d516a940>"
            ]
          },
          "metadata": {},
          "execution_count": 2
        },
        {
          "output_type": "display_data",
          "data": {
            "text/plain": [
              "<Figure size 432x288 with 1 Axes>"
            ],
            "image/png": "[encoded data removed]"
          },
          "metadata": {
            "needs_background": "light"
          }
        }
      ]
    },
    {
      "cell_type": "markdown",
      "source": [
        "### De correlación"
      ],
      "metadata": {
        "id": "_M6lSkH74UzI"
      }
    },
    {
      "cell_type": "markdown",
      "source": [
        "#### Nube de puntos (scatterplot)"
      ],
      "metadata": {
        "id": "OWzorv9f4qsW"
      }
    },
    {
      "cell_type": "code",
      "source": [
        "import matplotlib.pyplot as plt\n",
        "import numpy as np\n",
        "import pandas as pd\n",
        "\n",
        "# Create a dataset:\n",
        "df=pd.DataFrame({'x_values': range(1,101), 'y_values': np.random.randn(100)*15+range(1,101) })\n",
        "\n",
        "# plot\n",
        "plt.plot( 'x_values', 'y_values', data=df, linestyle='none', marker='o')\n",
        "plt.show()"
      ],
      "metadata": {
        "colab": {
          "base_uri": "https://localhost:8080/",
          "height": 265
        },
        "id": "e41mTgeI4t34",
        "outputId": "231ca3be-7ee1-459d-ae8e-45ed81ebd36c"
      },
      "execution_count": 3,
      "outputs": [
        {
          "output_type": "display_data",
          "data": {
            "text/plain": [
              "<Figure size 432x288 with 1 Axes>"
            ],
            "image/png": "[encoded data removed]"
          },
          "metadata": {
            "needs_background": "light"
          }
        }
      ]
    },
    {
      "cell_type": "markdown",
      "source": [
        "## El comportamiento de los datos (un poco de estadística)\n",
        "\n",
        "Los atributos que componen los conjuntos de datos y los valores que toman se pueden aproximar a distribuciones de probabilidad.\n",
        "<br><br>\n",
        "*Una **distribución de probabilidad** es un modelo teórico que trata de explicar el comportamiento de un fenómeno real. Actúa como una función que asigna a cada suceso, cuantificado mediante una variable aleatoria, la probabilidad correspondiente.*"
      ],
      "metadata": {
        "id": "Xv1peebW5CEI"
      }
    },
    {
      "cell_type": "markdown",
      "source": [
        "#### Distribución normal\n",
        "Suelen ajustarse a esto la mayoría de los datos en la naturaleza."
      ],
      "metadata": {
        "id": "Z9UpZVbW5Q1G"
      }
    },
    {
      "cell_type": "code",
      "source": [
        "# Graficando histograma\n",
        "mu, sigma = 0, 0.2 # media y desvio estandar\n",
        "datos = np.random.normal(mu, sigma, 1000) #creando muestra de datos\n",
        "\n",
        "# histograma de distribución normal.\n",
        "cuenta, cajas, ignorar = plt.hist(datos, 20)\n",
        "plt.ylabel('frequencia')\n",
        "plt.xlabel('valores')\n",
        "plt.title('Histograma')\n",
        "plt.show()"
      ],
      "metadata": {
        "colab": {
          "base_uri": "https://localhost:8080/",
          "height": 295
        },
        "id": "YzAoVcnD5JTd",
        "outputId": "abd7fdf1-86e3-4cde-b53a-7c7e8c062f40"
      },
      "execution_count": 4,
      "outputs": [
        {
          "output_type": "display_data",
          "data": {
            "text/plain": [
              "<Figure size 432x288 with 1 Axes>"
            ],
            "image/png": "[encoded data removed]"
          },
          "metadata": {
            "needs_background": "light"
          }
        }
      ]
    },
    {
      "cell_type": "markdown",
      "source": [
        "#### Distribución uniforme\n",
        "No aporta mucha información, pero interesa conocer su valor máximo y su valor mínimo."
      ],
      "metadata": {
        "id": "uCgUa9_Y5SzI"
      }
    },
    {
      "cell_type": "code",
      "source": [
        "from scipy import stats\n",
        "\n",
        "# Graficando Uniforme\n",
        "uniforme = stats.uniform()\n",
        "x = np.linspace(uniforme.ppf(0.01),\n",
        "                uniforme.ppf(0.99), 100)\n",
        "fp = uniforme.pdf(x) # Función de Probabilidad\n",
        "fig, ax = plt.subplots()\n",
        "ax.plot(x, fp, '--')\n",
        "ax.vlines(x, 0, fp, colors='b', lw=5, alpha=0.5)\n",
        "ax.set_yticks([0., 0.2, 0.4, 0.6, 0.8, 1., 1.2])\n",
        "plt.title('Distribución Uniforme')\n",
        "plt.ylabel('probabilidad')\n",
        "plt.xlabel('valores')\n",
        "plt.show()"
      ],
      "metadata": {
        "colab": {
          "base_uri": "https://localhost:8080/",
          "height": 295
        },
        "id": "0t9Gwee15W9D",
        "outputId": "c091e869-a817-4285-ac02-c218c2237c7b"
      },
      "execution_count": 5,
      "outputs": [
        {
          "output_type": "display_data",
          "data": {
            "text/plain": [
              "<Figure size 432x288 with 1 Axes>"
            ],
            "image/png": "[encoded data removed]"
          },
          "metadata": {
            "needs_background": "light"
          }
        }
      ]
    },
    {
      "cell_type": "markdown",
      "source": [
        "#### Distribución de Poisson\n",
        "\"Probabilidad de que se dé un suceso en un intervalo concreto\"."
      ],
      "metadata": {
        "id": "vN5QLrWRBHfp"
      }
    },
    {
      "cell_type": "code",
      "source": [
        "import seaborn as sns\n",
        "from numpy import random\n",
        "\n",
        "sns.distplot(random.poisson(lam=2, size=1000), kde=False)\n",
        "\n",
        "plt.show()"
      ],
      "metadata": {
        "id": "1FpKES1VBQbS",
        "outputId": "908e5c86-8cb0-4f6a-e36d-db45a8debc28",
        "colab": {
          "base_uri": "https://localhost:8080/",
          "height": 320
        }
      },
      "execution_count": 8,
      "outputs": [
        {
          "output_type": "stream",
          "name": "stderr",
          "text": [
            "/usr/local/lib/python3.8/dist-packages/seaborn/distributions.py:2619: FutureWarning: `distplot` is a deprecated function and will be removed in a future version. Please adapt your code to use either `displot` (a figure-level function with similar flexibility) or `histplot` (an axes-level function for histograms).\n",
            "  warnings.warn(msg, FutureWarning)\n"
          ]
        },
        {
          "output_type": "display_data",
          "data": {
            "text/plain": [
              "<Figure size 432x288 with 1 Axes>"
            ],
            "image/png": "[encoded data removed]"
          },
          "metadata": {
            "needs_background": "light"
          }
        }
      ]
    },
    {
      "cell_type": "markdown",
      "source": [
        "## Conclusiones"
      ],
      "metadata": {
        "id": "ohCCJDgD7re8"
      }
    },
    {
      "cell_type": "markdown",
      "source": [
        "![alt text](https://relopezbriega.github.io/images/distributions_choice.png \"img\")"
      ],
      "metadata": {
        "id": "2H5AsTZT50ZK"
      }
    },
    {
      "cell_type": "markdown",
      "source": [
        "Estimando a qué distribución se pueden aproximar los datos (y representándolos, por supuesto) podemos responder preguntas como:\n",
        " - ¿Cuál es la parte más densa (que más información aporta) del conjunto de datos?\n",
        " - ¿Merece la pena cortar el conjunto de datos? ¿Por dónde?\n",
        " - ¿Acaso estos datos me aportan algún tipo de información?"
      ],
      "metadata": {
        "id": "pM0Zunjb59tQ"
      }
    },
    {
      "cell_type": "markdown",
      "source": [
        "https://www.python-graph-gallery.com <br>\n",
        "https://www.python-graph-gallery.com/cheat-sheets/"
      ],
      "metadata": {
        "id": "F9LVN7b82btL"
      }
    }
  ]
}