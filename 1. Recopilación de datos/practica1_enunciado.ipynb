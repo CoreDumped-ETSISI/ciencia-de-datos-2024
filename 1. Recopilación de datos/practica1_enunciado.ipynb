{
  "nbformat": 4,
  "nbformat_minor": 0,
  "metadata": {
    "colab": {
      "provenance": []
    },
    "kernelspec": {
      "name": "python3",
      "display_name": "Python 3"
    },
    "language_info": {
      "name": "python"
    }
  },
  "cells": [
    {
      "cell_type": "markdown",
      "source": [
        "# Práctica 1: webscraping y visualización\n",
        "\n",
        "**Objetivo de la práctica**: recopilar, estructurar, limpiar y procesar datos de Internet.\n",
        "\n",
        "*Se darán por válidas las soluciones con BeautifulSoup y regex*  \n",
        "\n",
        "**Autor(es)**\n",
        "- Nombre 1\n",
        "- Nombre 2\n",
        "- ...\n",
        "\n",
        "---"
      ],
      "metadata": {
        "id": "qelVyhPs0Zuq"
      }
    },
    {
      "cell_type": "code",
      "execution_count": 1,
      "metadata": {
        "id": "1Upn-4ZN0Y7X"
      },
      "outputs": [],
      "source": [
        "import requests\n",
        "import numpy as np\n",
        "import pandas as pd\n",
        "import matplotlib.pyplot as plt"
      ]
    },
    {
      "cell_type": "markdown",
      "source": [
        "# Parte 1: recopilación y estructuración del dataset\n",
        "\n",
        "Crea un DataFrame con los datos de la url especificada en la constante `URL` y los nombres de columnas recogidos en la lista `column_names`. Utiliza el siguiente como ejemplo:\n",
        "\n",
        "\n",
        "| Pais                  | Capital          | Poblacion | Area |\n",
        "|-----------------------|------------------|-----------|------------|\n",
        "| Andorra               | Andorra la Vella| 84000     | 468.0      |\n",
        "| United Arab Emirates  | Abu Dhabi        | 4975593   | 82880.0    |\n",
        "| Afghanistan           | Kabul            | 29121286  | 647500.0   |\n",
        "| Antigua and Barbuda   | St. John's       | 86754     | 443.0      |\n",
        "| Anguilla              | The Valley       | 13254     | 102.0      |\n",
        "| Albania               | Tirana           | 2986952   | 28748.0    |\n"
      ],
      "metadata": {
        "id": "Y7E0XxiX1GV3"
      }
    },
    {
      "cell_type": "code",
      "source": [
        "URL = \"http://www.scrapethissite.com/pages/simple/\"\n",
        "\n",
        "# nombres de las columnas del dataframe, así tenemos todos los mismos\n",
        "column_names = ['Pais', 'Capital', 'Poblacion', 'Area']"
      ],
      "metadata": {
        "id": "sBie0Uy81B_p"
      },
      "execution_count": 4,
      "outputs": []
    },
    {
      "cell_type": "code",
      "source": [],
      "metadata": {
        "id": "WSqgJPaU1OlA"
      },
      "execution_count": null,
      "outputs": []
    },
    {
      "cell_type": "markdown",
      "source": [
        "# Parte 2: limpieza del dataset\n"
      ],
      "metadata": {
        "id": "b-zCzo5M1dEq"
      }
    },
    {
      "cell_type": "markdown",
      "source": [
        "2a) Elimina los valores nulos, si los hubiera. Si los hubiera, ¿destruirías la fila entera o sustituirías el valor nulo por 0?"
      ],
      "metadata": {
        "id": "IRuq984c2qJQ"
      }
    },
    {
      "cell_type": "code",
      "source": [],
      "metadata": {
        "id": "D9zP6GhE2uFC"
      },
      "execution_count": null,
      "outputs": []
    },
    {
      "cell_type": "markdown",
      "source": [
        "(respuesta de texto aquí)"
      ],
      "metadata": {
        "id": "mhwWPgtA22od"
      }
    },
    {
      "cell_type": "markdown",
      "source": [
        "2b) Asegura que las columnas `País` y `Capital` son de tipo `str`."
      ],
      "metadata": {
        "id": "cxEdbynu15lq"
      }
    },
    {
      "cell_type": "code",
      "source": [],
      "metadata": {
        "id": "kqP5rQxB1eQv"
      },
      "execution_count": null,
      "outputs": []
    },
    {
      "cell_type": "markdown",
      "source": [
        "2c) Aplica el mismo procedimiento para las columnas numéricas `Poblacion` y `Area`"
      ],
      "metadata": {
        "id": "MksAHqBN1_da"
      }
    },
    {
      "cell_type": "code",
      "source": [],
      "metadata": {
        "id": "uc-955p81_u-"
      },
      "execution_count": null,
      "outputs": []
    },
    {
      "cell_type": "markdown",
      "source": [
        "# Parte 3: procesamiento del dataset\n"
      ],
      "metadata": {
        "id": "se0mi7bF1ev_"
      }
    },
    {
      "cell_type": "markdown",
      "source": [
        "3a) Añade la siguiente columna derivada al dataset:\n",
        "- Densidad de población (Habitantes/km^2)\n"
      ],
      "metadata": {
        "id": "z8sb_Y8H2Y2d"
      }
    },
    {
      "cell_type": "code",
      "source": [],
      "metadata": {
        "id": "l1WI56jD10x8"
      },
      "execution_count": null,
      "outputs": []
    },
    {
      "cell_type": "markdown",
      "source": [
        "3b) Representa la distribución de la variable `Poblacion`."
      ],
      "metadata": {
        "id": "5vSITMWV2Zb6"
      }
    },
    {
      "cell_type": "code",
      "source": [],
      "metadata": {
        "id": "0wHtQv0r2eRY"
      },
      "execution_count": null,
      "outputs": []
    },
    {
      "cell_type": "markdown",
      "source": [
        "3c) ¿Existe alguna correlación entre las variables `Poblacion` y `Area`? Justifica tu respuesta."
      ],
      "metadata": {
        "id": "YBp_Qz_I2erN"
      }
    },
    {
      "cell_type": "code",
      "source": [],
      "metadata": {
        "id": "Z0S4akDG2hnu"
      },
      "execution_count": null,
      "outputs": []
    }
  ]
}